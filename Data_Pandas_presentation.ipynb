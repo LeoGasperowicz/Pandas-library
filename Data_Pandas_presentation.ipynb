{
 "cells": [
  {
   "cell_type": "markdown",
   "id": "b61cbc0c",
   "metadata": {},
   "source": [
    "# Data Analysis with Pandas"
   ]
  },
  {
   "cell_type": "markdown",
   "id": "f4cdba21",
   "metadata": {},
   "source": [
    "## Introduction\n",
    "Pandas is a powerful data analysis and manipulation library for Python. In this notebook, we'll explore various functionalities of pandas, from basic data structures like Series and DataFrames to more complex data manipulation techniques."
   ]
  },
  {
   "cell_type": "markdown",
   "id": "ce14dc33",
   "metadata": {},
   "source": [
    "## Installation\n",
    "Pandas can be installed using `pip` as follows:\n",
    "```python\n",
    "!pip install pandas\n",
    "```\n",
    "Alternatively, if you are using Anaconda, you can install using `conda`:\n",
    "```python\n",
    "conda install pandas\n",
    "```\n",
    "To import pandas, use the following command:\n",
    "```python\n",
    "import pandas as pd\n",
    "```"
   ]
  },
  {
   "cell_type": "markdown",
   "id": "725da214",
   "metadata": {},
   "source": [
    "## Core Components of Pandas: Series and DataFrame\n",
    "The primary two components of pandas are the `Series` and `DataFrame`.\n",
    "A `Series` is essentially a column, and a `DataFrame` is a multi-dimensional table made up of a collection of Series."
   ]
  },
  {
   "cell_type": "code",
   "execution_count": 1,
   "id": "ff0bb374",
   "metadata": {},
   "outputs": [],
   "source": [
    "import pandas as pd\n",
    "import numpy as np"
   ]
  },
  {
   "cell_type": "code",
   "execution_count": 16,
   "id": "8b404dac",
   "metadata": {},
   "outputs": [
    {
     "data": {
      "text/html": [
       "<div>\n",
       "<style scoped>\n",
       "    .dataframe tbody tr th:only-of-type {\n",
       "        vertical-align: middle;\n",
       "    }\n",
       "\n",
       "    .dataframe tbody tr th {\n",
       "        vertical-align: top;\n",
       "    }\n",
       "\n",
       "    .dataframe thead th {\n",
       "        text-align: right;\n",
       "    }\n",
       "</style>\n",
       "<table border=\"1\" class=\"dataframe\">\n",
       "  <thead>\n",
       "    <tr style=\"text-align: right;\">\n",
       "      <th></th>\n",
       "      <th>A</th>\n",
       "      <th>B</th>\n",
       "      <th>C</th>\n",
       "      <th>D</th>\n",
       "      <th>E</th>\n",
       "      <th>F</th>\n",
       "    </tr>\n",
       "  </thead>\n",
       "  <tbody>\n",
       "    <tr>\n",
       "      <th>0</th>\n",
       "      <td>1.0</td>\n",
       "      <td>2013-01-02</td>\n",
       "      <td>1.0</td>\n",
       "      <td>3</td>\n",
       "      <td>test</td>\n",
       "      <td>gone</td>\n",
       "    </tr>\n",
       "    <tr>\n",
       "      <th>1</th>\n",
       "      <td>1.0</td>\n",
       "      <td>2013-01-02</td>\n",
       "      <td>1.0</td>\n",
       "      <td>3</td>\n",
       "      <td>train</td>\n",
       "      <td>gone</td>\n",
       "    </tr>\n",
       "    <tr>\n",
       "      <th>2</th>\n",
       "      <td>1.0</td>\n",
       "      <td>2013-01-02</td>\n",
       "      <td>1.0</td>\n",
       "      <td>3</td>\n",
       "      <td>test</td>\n",
       "      <td>gone</td>\n",
       "    </tr>\n",
       "    <tr>\n",
       "      <th>3</th>\n",
       "      <td>1.0</td>\n",
       "      <td>2013-01-02</td>\n",
       "      <td>1.0</td>\n",
       "      <td>3</td>\n",
       "      <td>train</td>\n",
       "      <td>gone</td>\n",
       "    </tr>\n",
       "  </tbody>\n",
       "</table>\n",
       "</div>"
      ],
      "text/plain": [
       "     A          B    C  D      E     F\n",
       "0  1.0 2013-01-02  1.0  3   test  gone\n",
       "1  1.0 2013-01-02  1.0  3  train  gone\n",
       "2  1.0 2013-01-02  1.0  3   test  gone\n",
       "3  1.0 2013-01-02  1.0  3  train  gone"
      ]
     },
     "execution_count": 16,
     "metadata": {},
     "output_type": "execute_result"
    }
   ],
   "source": [
    "# Creating a Series\n",
    "series = pd.Series([1, 3, 5, np.nan, 6, 8])\n",
    "\n",
    "# Creating a DataFrame by passing a numpy array\n",
    "dates = pd.date_range('20230101', periods=6)\n",
    "df = pd.DataFrame(np.random.randn(6, 4), index=dates, columns=list('ABCD'))\n",
    "\n",
    "# Creating a DataFrame by passing a dict of objects\n",
    "df2 = pd.DataFrame({ 'A' : 1.,\n",
    "                     'B' : pd.Timestamp('20130102'),\n",
    "                     'C' : pd.Series(1, index=list(range(4)), dtype='float32'),\n",
    "                     'D' : np.array([3] * 4, dtype='int32'),\n",
    "                     'E' : pd.Categorical(['test', 'train', 'test', 'train']),\n",
    "                     'F' : 'gone' })\n",
    "#df2.describe()\n",
    "\n",
    "df2.head()"
   ]
  },
  {
   "cell_type": "markdown",
   "id": "d1b87db2",
   "metadata": {},
   "source": [
    "## Creating a DataFrame\n",
    "There are multiple ways to create a DataFrame. Here, we'll create one using a dictionary of lists."
   ]
  },
  {
   "cell_type": "code",
   "execution_count": null,
   "id": "0c9254ad",
   "metadata": {},
   "outputs": [
    {
     "name": "stdout",
     "output_type": "stream",
     "text": [
      "   A  B   C   D\n",
      "0  1  5   9  13\n",
      "1  2  6  10  14\n",
      "2  3  7  11  15\n",
      "3  4  8  12  16\n"
     ]
    }
   ],
   "source": [
    "data = {'A': [1, 2, 3, 4],\n",
    "        'B': [5, 6, 7, 8],\n",
    "        'C': [9, 10, 11, 12],\n",
    "        'D': [13, 14, 15, 16]}\n",
    "df2 = pd.DataFrame(data)\n",
    "print(df2)"
   ]
  },
  {
   "cell_type": "markdown",
   "id": "4367cc99",
   "metadata": {},
   "source": [
    "**From a csv file**"
   ]
  },
  {
   "cell_type": "code",
   "execution_count": null,
   "id": "43b0a63b",
   "metadata": {},
   "outputs": [
    {
     "data": {
      "text/plain": [
       "<bound method NDFrame.head of   Username; Identifier;First name;Last name\n",
       "0               booker12;9012;Rachel;Booker\n",
       "1                    grey07;2070;Laura;Grey\n",
       "2              johnson81;4081;Craig;Johnson\n",
       "3               jenkins46;9346;Mary;Jenkins\n",
       "4                  smith79;5079;Jamie;Smith>"
      ]
     },
     "metadata": {},
     "output_type": "display_data"
    }
   ],
   "source": [
    "dfn = pd.read_csv(r\"D:\\Documents\\UVIC\\Stats & Data Analysis\\Pres\\username.csv\")\n",
    "dfn.head"
   ]
  },
  {
   "cell_type": "markdown",
   "id": "f6a5f37d",
   "metadata": {},
   "source": [
    "## Series and DataFrame\n",
    "Pandas has two main data structures: Series and DataFrame. Series represents a one-dimensional array, and DataFrame is a two-dimensional table of data with rows and columns.\n",
    "\n",
    "Dataframes store data in the form of a grid (table) with rows and columns. Each column is used to store similar type of data (or variables/parameters) while each row is an instance of a value. Similar to a spreadsheet on Excel. "
   ]
  },
  {
   "cell_type": "code",
   "execution_count": 4,
   "id": "38e94757",
   "metadata": {},
   "outputs": [
    {
     "name": "stdout",
     "output_type": "stream",
     "text": [
      "   0  1  2\n",
      "0  0  2  3\n"
     ]
    },
    {
     "data": {
      "text/plain": [
       "0    1.0\n",
       "1    3.0\n",
       "2    5.0\n",
       "3    NaN\n",
       "4    6.0\n",
       "5    8.0\n",
       "dtype: float64"
      ]
     },
     "execution_count": 4,
     "metadata": {},
     "output_type": "execute_result"
    }
   ],
   "source": [
    "s = pd.Series([1, 3, 5, np.nan, 6, 8])\n",
    "dates = pd.date_range('20230101', periods=6)\n",
    "df = pd.DataFrame(np.random.randn(6, 4), index=dates, columns=list('ABCD'))\n",
    "\n",
    "#from a numpy array\n",
    "data = np.array([\"0\",\"2\",\"3\"]),\n",
    "print(pd.DataFrame(data))\n",
    "s"
   ]
  },
  {
   "cell_type": "markdown",
   "id": "6864df95",
   "metadata": {},
   "source": [
    "## Keywords\n",
    "\n",
    "\n",
    "Timestamp\n",
    "Categorical \n",
    "read_csv\n",
    "sort_values\n",
    "dropna\n",
    "drop\n",
    "fillna\n",
    "fill\n",
    "groupby \n",
    "groupby.agg()\n",
    "groupby.sum()\n",
    "sum\n",
    "astype\n",
    "cat\n",
    "set_categories\n",
    "asfreq\n",
    "resample\n"
   ]
  },
  {
   "cell_type": "markdown",
   "id": "53163afc",
   "metadata": {},
   "source": [
    "# Pandas DataFrame Keywords Explanation\n",
    "\n",
    "In this part, we will cover several essential keywords and methods used in the pandas library, which are crucial for data manipulation and analysis.\n",
    "\n",
    "## Timestamp\n",
    "`Timestamp` represents a single point in time. It is the pandas equivalent to Python's `datetime` and is interchangeable with it in most cases.\n",
    "\n",
    "```python\n",
    "import pandas as pd\n",
    "# Example of creating a Timestamp\n",
    "timestamp = pd.Timestamp('2022-01-01 10:00')\n",
    "print(timestamp)\n"
   ]
  },
  {
   "cell_type": "code",
   "execution_count": null,
   "id": "910fd437",
   "metadata": {},
   "outputs": [],
   "source": [
    "# Example of converting a series to categorical type\n",
    "s = pd.Series([\"a\", \"b\", \"c\", \"a\"], dtype=\"category\")\n",
    "print(s)\n",
    "\n",
    "# Example of reading a CSV file\n",
    "df = pd.read_csv('file_path.csv')\n",
    "\n",
    "#sort_values sorts a DataFrame by the values of one or more columns.\n",
    "# Example of sorting by a column\n",
    "df.sort_values(by='column_name', ascending=True)\n",
    "\n",
    "#dropna removes missing values from a DataFrame.\n",
    "# Example of removing all rows where any column has NA\n",
    "df.dropna()\n",
    "\n",
    "#drop is used to remove rows or columns by specifying label names and the corresponding axis.\n",
    "# Example of dropping a column\n",
    "df.drop('column_name', axis=1)\n",
    "\n",
    "#fillna replaces missing values with a specified value.\n",
    "# Example of replacing NA with a specific value\n",
    "df.fillna(value=0)\n",
    "\n",
    "#groupby allows grouping DataFrame rows based on the values of a specified column and applying a function to each group.\n",
    "# Example of grouping by a column\n",
    "grouped = df.groupby('column_name')\n",
    "\n",
    "#groupby.agg() allows applying multiple aggregation operations to the grouped data.\n",
    "# Example of using groupby with aggregation\n",
    "df.groupby('column').agg({'data1': 'sum', 'data2': 'max'})\n",
    "\n",
    "#sum adds the values in a DataFrame or Series, typically used after grouping.\n",
    "# Example of summing values in a Series\n",
    "df['column_name'].sum()\n",
    "\n",
    "#groupby.sum() computes the sum of the grouped data.\n",
    "# Example of summing grouped data\n",
    "df.groupby('column_name').sum()\n",
    "\n",
    "#astype is used to cast a pandas object to a specified dtype.\n",
    "# Example of changing the data type of a column\n",
    "df['column_name'].astype('int32')\n",
    "\n",
    "#cat is an accessor used to handle categorical data.\n",
    "# Example of accessing categorical methods\n",
    "df['categorical_column'].cat.categories\n",
    "\n",
    "#set_categories is used to define the categories explicitly.\n",
    "# Example of setting categories\n",
    "df['categorical_column'].cat.set_categories(['category1', 'category2'])\n",
    "\n",
    "#asfreq converts a time series to a specified frequency.\n",
    "# Example of changing frequency of a time series\n",
    "ts.asfreq('M')\n",
    "\n",
    "# Example of resampling a time series data\n",
    "df.resample('M').mean()\n",
    "\n",
    "pivot_table"
   ]
  },
  {
   "cell_type": "markdown",
   "id": "c456acc8",
   "metadata": {},
   "source": [
    "## Basic DataFrame Operations\n",
    "Let's see how to view data, select, sort, and add new data to our DataFrame."
   ]
  },
  {
   "cell_type": "code",
   "execution_count": 15,
   "id": "b63fbcb2",
   "metadata": {},
   "outputs": [
    {
     "name": "stdout",
     "output_type": "stream",
     "text": [
      "   A  B   C   D\n",
      "0  1  5   9  13\n",
      "1  2  6  10  14\n",
      "2  3  7  11  15\n",
      "3  4  8  12  16\n",
      "   A  B   C   D\n",
      "1  2  6  10  14\n",
      "2  3  7  11  15\n",
      "3  4  8  12  16\n",
      "              A         B          C          D\n",
      "count  4.000000  4.000000   4.000000   4.000000\n",
      "mean   2.500000  6.500000  10.500000  14.500000\n",
      "std    1.290994  1.290994   1.290994   1.290994\n",
      "min    1.000000  5.000000   9.000000  13.000000\n",
      "25%    1.750000  5.750000   9.750000  13.750000\n",
      "50%    2.500000  6.500000  10.500000  14.500000\n",
      "75%    3.250000  7.250000  11.250000  15.250000\n",
      "max    4.000000  8.000000  12.000000  16.000000\n"
     ]
    }
   ],
   "source": [
    "print(df2.head())\n",
    "print(df2.tail(3))\n",
    "print(df2.describe())\n",
    "df2.sort_values(by='B')\n",
    "df2['E'] = df2['A'] + df2['B']"
   ]
  },
  {
   "cell_type": "code",
   "execution_count": null,
   "id": "d9b161bf",
   "metadata": {},
   "outputs": [
    {
     "data": {
      "text/html": [
       "<div>\n",
       "<style scoped>\n",
       "    .dataframe tbody tr th:only-of-type {\n",
       "        vertical-align: middle;\n",
       "    }\n",
       "\n",
       "    .dataframe tbody tr th {\n",
       "        vertical-align: top;\n",
       "    }\n",
       "\n",
       "    .dataframe thead th {\n",
       "        text-align: right;\n",
       "    }\n",
       "</style>\n",
       "<table border=\"1\" class=\"dataframe\">\n",
       "  <thead>\n",
       "    <tr style=\"text-align: right;\">\n",
       "      <th></th>\n",
       "      <th>A</th>\n",
       "      <th>B</th>\n",
       "      <th>C</th>\n",
       "      <th>D</th>\n",
       "    </tr>\n",
       "  </thead>\n",
       "  <tbody>\n",
       "    <tr>\n",
       "      <th>2023-01-02</th>\n",
       "      <td>-0.806874</td>\n",
       "      <td>-0.689775</td>\n",
       "      <td>-0.280344</td>\n",
       "      <td>-0.236044</td>\n",
       "    </tr>\n",
       "    <tr>\n",
       "      <th>2023-01-01</th>\n",
       "      <td>-0.003607</td>\n",
       "      <td>-0.584760</td>\n",
       "      <td>2.025843</td>\n",
       "      <td>-0.550929</td>\n",
       "    </tr>\n",
       "    <tr>\n",
       "      <th>2023-01-05</th>\n",
       "      <td>0.576850</td>\n",
       "      <td>0.151869</td>\n",
       "      <td>0.913662</td>\n",
       "      <td>-0.485021</td>\n",
       "    </tr>\n",
       "    <tr>\n",
       "      <th>2023-01-06</th>\n",
       "      <td>-0.283520</td>\n",
       "      <td>0.271833</td>\n",
       "      <td>1.036482</td>\n",
       "      <td>-0.311588</td>\n",
       "    </tr>\n",
       "    <tr>\n",
       "      <th>2023-01-04</th>\n",
       "      <td>0.772526</td>\n",
       "      <td>0.494485</td>\n",
       "      <td>-0.529486</td>\n",
       "      <td>0.276304</td>\n",
       "    </tr>\n",
       "    <tr>\n",
       "      <th>2023-01-03</th>\n",
       "      <td>0.590829</td>\n",
       "      <td>2.549776</td>\n",
       "      <td>-0.493782</td>\n",
       "      <td>-0.848701</td>\n",
       "    </tr>\n",
       "  </tbody>\n",
       "</table>\n",
       "</div>"
      ],
      "text/plain": [
       "                   A         B         C         D\n",
       "2023-01-02 -0.806874 -0.689775 -0.280344 -0.236044\n",
       "2023-01-01 -0.003607 -0.584760  2.025843 -0.550929\n",
       "2023-01-05  0.576850  0.151869  0.913662 -0.485021\n",
       "2023-01-06 -0.283520  0.271833  1.036482 -0.311588\n",
       "2023-01-04  0.772526  0.494485 -0.529486  0.276304\n",
       "2023-01-03  0.590829  2.549776 -0.493782 -0.848701"
      ]
     },
     "metadata": {},
     "output_type": "display_data"
    }
   ],
   "source": [
    "# Viewing the top rows of the DataFrame\n",
    "df.head()\n",
    "\n",
    "# Viewing the index, columns, and the underlying numpy data\n",
    "df.index\n",
    "df.columns\n",
    "df.to_numpy()\n",
    "\n",
    "# Describe shows a quick statistic summary of your data\n",
    "df.describe()\n",
    "\n",
    "# Sorting by an axis and by values\n",
    "df.sort_index(axis=1, ascending=False)\n",
    "df.sort_values(by='B')"
   ]
  },
  {
   "cell_type": "markdown",
   "id": "8c678907",
   "metadata": {},
   "source": [
    "## Data Cleaning\n",
    "Data cleaning is a crucial step in data analysis. We'll demonstrate how to handle missing data and drop duplicates."
   ]
  },
  {
   "cell_type": "code",
   "execution_count": 24,
   "id": "16496ac5",
   "metadata": {},
   "outputs": [
    {
     "name": "stdout",
     "output_type": "stream",
     "text": [
      "   A  B     C   D   E\n",
      "0  1  5   9.0  13   6\n",
      "1  2  6  10.0  14   8\n",
      "2  3  7   NaN  15  10\n",
      "3  4  8  12.0  16  12\n"
     ]
    },
    {
     "data": {
      "text/html": [
       "<div>\n",
       "<style scoped>\n",
       "    .dataframe tbody tr th:only-of-type {\n",
       "        vertical-align: middle;\n",
       "    }\n",
       "\n",
       "    .dataframe tbody tr th {\n",
       "        vertical-align: top;\n",
       "    }\n",
       "\n",
       "    .dataframe thead th {\n",
       "        text-align: right;\n",
       "    }\n",
       "</style>\n",
       "<table border=\"1\" class=\"dataframe\">\n",
       "  <thead>\n",
       "    <tr style=\"text-align: right;\">\n",
       "      <th></th>\n",
       "      <th>A</th>\n",
       "      <th>B</th>\n",
       "      <th>C</th>\n",
       "      <th>D</th>\n",
       "      <th>E</th>\n",
       "    </tr>\n",
       "  </thead>\n",
       "  <tbody>\n",
       "    <tr>\n",
       "      <th>0</th>\n",
       "      <td>False</td>\n",
       "      <td>False</td>\n",
       "      <td>False</td>\n",
       "      <td>False</td>\n",
       "      <td>False</td>\n",
       "    </tr>\n",
       "    <tr>\n",
       "      <th>1</th>\n",
       "      <td>False</td>\n",
       "      <td>False</td>\n",
       "      <td>False</td>\n",
       "      <td>False</td>\n",
       "      <td>False</td>\n",
       "    </tr>\n",
       "    <tr>\n",
       "      <th>2</th>\n",
       "      <td>False</td>\n",
       "      <td>False</td>\n",
       "      <td>True</td>\n",
       "      <td>False</td>\n",
       "      <td>False</td>\n",
       "    </tr>\n",
       "    <tr>\n",
       "      <th>3</th>\n",
       "      <td>False</td>\n",
       "      <td>False</td>\n",
       "      <td>False</td>\n",
       "      <td>False</td>\n",
       "      <td>False</td>\n",
       "    </tr>\n",
       "  </tbody>\n",
       "</table>\n",
       "</div>"
      ],
      "text/plain": [
       "       A      B      C      D      E\n",
       "0  False  False  False  False  False\n",
       "1  False  False  False  False  False\n",
       "2  False  False   True  False  False\n",
       "3  False  False  False  False  False"
      ]
     },
     "execution_count": 24,
     "metadata": {},
     "output_type": "execute_result"
    }
   ],
   "source": [
    "df2.iloc[2, 2] = np.nan  # Introduce a NaN value\n",
    "print(df2)\n",
    "df2.dropna(how='any')  # Drop any row with NaN\n",
    "df2.fillna(value=5)    # Fill NaN with a value\n",
    "pd.isna(df2)"
   ]
  },
  {
   "cell_type": "markdown",
   "id": "b2fcac1e",
   "metadata": {},
   "source": [
    "## Grouping\n",
    "Grouping involves one or more of the following steps: Splitting the data, applying a function, and combining the results."
   ]
  },
  {
   "cell_type": "code",
   "execution_count": 25,
   "id": "e64a70bf",
   "metadata": {},
   "outputs": [
    {
     "data": {
      "text/html": [
       "<div>\n",
       "<style scoped>\n",
       "    .dataframe tbody tr th:only-of-type {\n",
       "        vertical-align: middle;\n",
       "    }\n",
       "\n",
       "    .dataframe tbody tr th {\n",
       "        vertical-align: top;\n",
       "    }\n",
       "\n",
       "    .dataframe thead th {\n",
       "        text-align: right;\n",
       "    }\n",
       "</style>\n",
       "<table border=\"1\" class=\"dataframe\">\n",
       "  <thead>\n",
       "    <tr style=\"text-align: right;\">\n",
       "      <th></th>\n",
       "      <th>B</th>\n",
       "      <th>C</th>\n",
       "      <th>D</th>\n",
       "      <th>E</th>\n",
       "    </tr>\n",
       "    <tr>\n",
       "      <th>A</th>\n",
       "      <th></th>\n",
       "      <th></th>\n",
       "      <th></th>\n",
       "      <th></th>\n",
       "    </tr>\n",
       "  </thead>\n",
       "  <tbody>\n",
       "    <tr>\n",
       "      <th>1</th>\n",
       "      <td>5</td>\n",
       "      <td>9.0</td>\n",
       "      <td>13</td>\n",
       "      <td>6</td>\n",
       "    </tr>\n",
       "    <tr>\n",
       "      <th>2</th>\n",
       "      <td>6</td>\n",
       "      <td>10.0</td>\n",
       "      <td>14</td>\n",
       "      <td>8</td>\n",
       "    </tr>\n",
       "    <tr>\n",
       "      <th>3</th>\n",
       "      <td>7</td>\n",
       "      <td>0.0</td>\n",
       "      <td>15</td>\n",
       "      <td>10</td>\n",
       "    </tr>\n",
       "    <tr>\n",
       "      <th>4</th>\n",
       "      <td>8</td>\n",
       "      <td>12.0</td>\n",
       "      <td>16</td>\n",
       "      <td>12</td>\n",
       "    </tr>\n",
       "  </tbody>\n",
       "</table>\n",
       "</div>"
      ],
      "text/plain": [
       "   B     C   D   E\n",
       "A                 \n",
       "1  5   9.0  13   6\n",
       "2  6  10.0  14   8\n",
       "3  7   0.0  15  10\n",
       "4  8  12.0  16  12"
      ]
     },
     "execution_count": 25,
     "metadata": {},
     "output_type": "execute_result"
    }
   ],
   "source": [
    "df2.groupby('A').sum()"
   ]
  },
  {
   "cell_type": "markdown",
   "id": "873d49b4",
   "metadata": {},
   "source": [
    "### Group By: Split-Apply-Combine\n",
    "Advanced grouping operations to summarize data."
   ]
  },
  {
   "cell_type": "code",
   "execution_count": null,
   "id": "5c53c650",
   "metadata": {},
   "outputs": [
    {
     "data": {
      "text/html": [
       "<div>\n",
       "<style scoped>\n",
       "    .dataframe tbody tr th:only-of-type {\n",
       "        vertical-align: middle;\n",
       "    }\n",
       "\n",
       "    .dataframe tbody tr th {\n",
       "        vertical-align: top;\n",
       "    }\n",
       "\n",
       "    .dataframe thead tr th {\n",
       "        text-align: left;\n",
       "    }\n",
       "\n",
       "    .dataframe thead tr:last-of-type th {\n",
       "        text-align: right;\n",
       "    }\n",
       "</style>\n",
       "<table border=\"1\" class=\"dataframe\">\n",
       "  <thead>\n",
       "    <tr>\n",
       "      <th></th>\n",
       "      <th colspan=\"3\" halign=\"left\">A</th>\n",
       "      <th>B</th>\n",
       "      <th>C</th>\n",
       "    </tr>\n",
       "    <tr>\n",
       "      <th></th>\n",
       "      <th>mean</th>\n",
       "      <th>min</th>\n",
       "      <th>max</th>\n",
       "      <th>sum</th>\n",
       "      <th>count</th>\n",
       "    </tr>\n",
       "    <tr>\n",
       "      <th>F</th>\n",
       "      <th></th>\n",
       "      <th></th>\n",
       "      <th></th>\n",
       "      <th></th>\n",
       "      <th></th>\n",
       "    </tr>\n",
       "  </thead>\n",
       "  <tbody>\n",
       "    <tr>\n",
       "      <th>False</th>\n",
       "      <td>-0.819656</td>\n",
       "      <td>-1.830707</td>\n",
       "      <td>-0.277708</td>\n",
       "      <td>5.475151</td>\n",
       "      <td>8</td>\n",
       "    </tr>\n",
       "    <tr>\n",
       "      <th>True</th>\n",
       "      <td>0.954371</td>\n",
       "      <td>0.022371</td>\n",
       "      <td>2.637768</td>\n",
       "      <td>-4.011988</td>\n",
       "      <td>8</td>\n",
       "    </tr>\n",
       "  </tbody>\n",
       "</table>\n",
       "</div>"
      ],
      "text/plain": [
       "              A                             B     C\n",
       "           mean       min       max       sum count\n",
       "F                                                  \n",
       "False -0.819656 -1.830707 -0.277708  5.475151     8\n",
       "True   0.954371  0.022371  2.637768 -4.011988     8"
      ]
     },
     "metadata": {},
     "output_type": "display_data"
    }
   ],
   "source": [
    "df3.groupby('F').agg({'A': ['mean', 'min', 'max'], 'B': 'sum', 'C': 'count'})"
   ]
  },
  {
   "cell_type": "markdown",
   "id": "86e2f62b",
   "metadata": {},
   "source": [
    "## Advanced DataFrame Manipulation\n",
    "We will now look at more advanced data manipulations like indexing, selection, and extending the DataFrame with new data."
   ]
  },
  {
   "cell_type": "code",
   "execution_count": 27,
   "id": "983c532f",
   "metadata": {},
   "outputs": [],
   "source": [
    "df3 = pd.DataFrame(np.random.randn(16, 5), columns=list('ABCDE'))\n",
    "df3['F'] = df3['A'] > 0\n",
    "# Selecting data with a boolean criterion\n",
    "df_positive_A = df3[df3['A'] > 0]"
   ]
  },
  {
   "cell_type": "markdown",
   "id": "805b7b7b",
   "metadata": {},
   "source": [
    "### Working with Text Data\n",
    "Pandas provides a suite of string operations that you can use to manipulate text data."
   ]
  },
  {
   "cell_type": "markdown",
   "id": "b09b058c",
   "metadata": {},
   "source": [
    "### MultiIndex and Advanced Indexing\n",
    "Pandas allows for more complex indexing with MultiIndex."
   ]
  },
  {
   "cell_type": "code",
   "execution_count": 31,
   "id": "3d38b7d8",
   "metadata": {},
   "outputs": [
    {
     "data": {
      "text/html": [
       "<div>\n",
       "<style scoped>\n",
       "    .dataframe tbody tr th:only-of-type {\n",
       "        vertical-align: middle;\n",
       "    }\n",
       "\n",
       "    .dataframe tbody tr th {\n",
       "        vertical-align: top;\n",
       "    }\n",
       "\n",
       "    .dataframe thead th {\n",
       "        text-align: right;\n",
       "    }\n",
       "</style>\n",
       "<table border=\"1\" class=\"dataframe\">\n",
       "  <thead>\n",
       "    <tr style=\"text-align: right;\">\n",
       "      <th></th>\n",
       "      <th>A</th>\n",
       "      <th>B</th>\n",
       "      <th>C</th>\n",
       "      <th>D</th>\n",
       "    </tr>\n",
       "    <tr>\n",
       "      <th>second</th>\n",
       "      <th></th>\n",
       "      <th></th>\n",
       "      <th></th>\n",
       "      <th></th>\n",
       "    </tr>\n",
       "  </thead>\n",
       "  <tbody>\n",
       "    <tr>\n",
       "      <th>one</th>\n",
       "      <td>0.270476</td>\n",
       "      <td>1.152464</td>\n",
       "      <td>1.632514</td>\n",
       "      <td>-1.485567</td>\n",
       "    </tr>\n",
       "    <tr>\n",
       "      <th>two</th>\n",
       "      <td>-1.403543</td>\n",
       "      <td>3.072781</td>\n",
       "      <td>0.258686</td>\n",
       "      <td>-1.176571</td>\n",
       "    </tr>\n",
       "  </tbody>\n",
       "</table>\n",
       "</div>"
      ],
      "text/plain": [
       "               A         B         C         D\n",
       "second                                        \n",
       "one     0.270476  1.152464  1.632514 -1.485567\n",
       "two    -1.403543  3.072781  0.258686 -1.176571"
      ]
     },
     "execution_count": 31,
     "metadata": {},
     "output_type": "execute_result"
    }
   ],
   "source": [
    "arrays = [np.array(['bar', 'bar', 'baz', 'baz']),\n",
    "         np.array(['one', 'two', 'one', 'two'])]\n",
    "df_multi = pd.DataFrame(np.random.randn(4, 4), index=arrays, columns=['A', 'B', 'C', 'D'])\n",
    "df_multi.index.names = ['first', 'second']\n",
    "df_multi.loc['bar']"
   ]
  },
  {
   "cell_type": "markdown",
   "id": "fa5996bd",
   "metadata": {},
   "source": [
    "### Pivot Tables\n",
    "Creating pivot tables for data summarization."
   ]
  },
  {
   "cell_type": "code",
   "execution_count": 32,
   "id": "ad2dc052",
   "metadata": {},
   "outputs": [
    {
     "data": {
      "text/html": [
       "<div>\n",
       "<style scoped>\n",
       "    .dataframe tbody tr th:only-of-type {\n",
       "        vertical-align: middle;\n",
       "    }\n",
       "\n",
       "    .dataframe tbody tr th {\n",
       "        vertical-align: top;\n",
       "    }\n",
       "\n",
       "    .dataframe thead th {\n",
       "        text-align: right;\n",
       "    }\n",
       "</style>\n",
       "<table border=\"1\" class=\"dataframe\">\n",
       "  <thead>\n",
       "    <tr style=\"text-align: right;\">\n",
       "      <th></th>\n",
       "      <th>C</th>\n",
       "      <th>bar</th>\n",
       "      <th>foo</th>\n",
       "    </tr>\n",
       "    <tr>\n",
       "      <th>A</th>\n",
       "      <th>B</th>\n",
       "      <th></th>\n",
       "      <th></th>\n",
       "    </tr>\n",
       "  </thead>\n",
       "  <tbody>\n",
       "    <tr>\n",
       "      <th rowspan=\"3\" valign=\"top\">one</th>\n",
       "      <th>A</th>\n",
       "      <td>-1.712104</td>\n",
       "      <td>-1.066937</td>\n",
       "    </tr>\n",
       "    <tr>\n",
       "      <th>B</th>\n",
       "      <td>0.749318</td>\n",
       "      <td>-1.718793</td>\n",
       "    </tr>\n",
       "    <tr>\n",
       "      <th>C</th>\n",
       "      <td>0.195875</td>\n",
       "      <td>0.253258</td>\n",
       "    </tr>\n",
       "    <tr>\n",
       "      <th rowspan=\"3\" valign=\"top\">three</th>\n",
       "      <th>A</th>\n",
       "      <td>0.699040</td>\n",
       "      <td>NaN</td>\n",
       "    </tr>\n",
       "    <tr>\n",
       "      <th>B</th>\n",
       "      <td>NaN</td>\n",
       "      <td>0.379192</td>\n",
       "    </tr>\n",
       "    <tr>\n",
       "      <th>C</th>\n",
       "      <td>0.518788</td>\n",
       "      <td>NaN</td>\n",
       "    </tr>\n",
       "    <tr>\n",
       "      <th rowspan=\"3\" valign=\"top\">two</th>\n",
       "      <th>A</th>\n",
       "      <td>NaN</td>\n",
       "      <td>-0.316545</td>\n",
       "    </tr>\n",
       "    <tr>\n",
       "      <th>B</th>\n",
       "      <td>0.205198</td>\n",
       "      <td>NaN</td>\n",
       "    </tr>\n",
       "    <tr>\n",
       "      <th>C</th>\n",
       "      <td>NaN</td>\n",
       "      <td>1.440215</td>\n",
       "    </tr>\n",
       "  </tbody>\n",
       "</table>\n",
       "</div>"
      ],
      "text/plain": [
       "C             bar       foo\n",
       "A     B                    \n",
       "one   A -1.712104 -1.066937\n",
       "      B  0.749318 -1.718793\n",
       "      C  0.195875  0.253258\n",
       "three A  0.699040       NaN\n",
       "      B       NaN  0.379192\n",
       "      C  0.518788       NaN\n",
       "two   A       NaN -0.316545\n",
       "      B  0.205198       NaN\n",
       "      C       NaN  1.440215"
      ]
     },
     "execution_count": 32,
     "metadata": {},
     "output_type": "execute_result"
    }
   ],
   "source": [
    "df_pivot = pd.DataFrame({'A': ['one', 'one', 'two', 'three'] * 3,\n",
    "                   'B': ['A', 'B', 'C'] * 4,\n",
    "                   'C': ['foo', 'foo', 'foo', 'bar', 'bar', 'bar'] * 2,\n",
    "                   'D': np.random.randn(12),\n",
    "                   'E': np.random.randn(12)})\n",
    "pd.pivot_table(df_pivot, values='D', index=['A', 'B'], columns=['C'])"
   ]
  },
  {
   "cell_type": "markdown",
   "id": "f586e34a",
   "metadata": {},
   "source": [
    "## Time Series\n",
    "Pandas has simple, powerful, and efficient functionality for performing resampling operations during frequency conversion (e.g., converting secondly data into 5-minutely data)."
   ]
  },
  {
   "cell_type": "code",
   "execution_count": 33,
   "id": "5de2695a",
   "metadata": {},
   "outputs": [
    {
     "name": "stderr",
     "output_type": "stream",
     "text": [
      "C:\\Users\\abdou\\AppData\\Local\\Temp\\ipykernel_19588\\1027061288.py:1: FutureWarning: 'S' is deprecated and will be removed in a future version, please use 's' instead.\n",
      "  rng = pd.date_range('1/1/2022', periods=100, freq='S')\n"
     ]
    },
    {
     "data": {
      "text/plain": [
       "2022-01-01    24613\n",
       "Freq: 5min, dtype: int32"
      ]
     },
     "execution_count": 33,
     "metadata": {},
     "output_type": "execute_result"
    }
   ],
   "source": [
    "rng = pd.date_range('1/1/2022', periods=100, freq='S')\n",
    "ts = pd.Series(np.random.randint(0, 500, len(rng)), index=rng)\n",
    "ts.resample('5Min').sum()"
   ]
  },
  {
   "cell_type": "markdown",
   "id": "99f5f63d",
   "metadata": {},
   "source": [
    "## Time Series\n",
    "Pandas has simple, powerful, and efficient functions for performing operations like resampling during frequency conversion (e.g., converting secondly data into 5-minute data)."
   ]
  },
  {
   "cell_type": "code",
   "execution_count": 4,
   "id": "eecdd005",
   "metadata": {},
   "outputs": [
    {
     "name": "stderr",
     "output_type": "stream",
     "text": [
      "C:\\Users\\abdou\\AppData\\Local\\Temp\\ipykernel_28820\\4221664191.py:6: FutureWarning: 'M' is deprecated and will be removed in a future version, please use 'ME' instead.\n",
      "  ts.asfreq(freq='M', method='bfill')\n"
     ]
    },
    {
     "data": {
      "text/plain": [
       "<Axes: >"
      ]
     },
     "execution_count": 4,
     "metadata": {},
     "output_type": "execute_result"
    },
    {
     "data": {
      "image/png": "[encoded data removed]",
      "text/plain": [
       "<Figure size 640x480 with 1 Axes>"
      ]
     },
     "metadata": {},
     "output_type": "display_data"
    }
   ],
   "source": [
    "# Creating a time series with a DateTime index\n",
    "rng = pd.date_range('20230101', periods=100, freq='D')\n",
    "ts = pd.Series(np.random.randn(len(rng)), index=rng)\n",
    "\n",
    "# Changing the frequency of the time series\n",
    "ts.asfreq(freq='M', method='bfill')\n",
    "\n",
    "# Plotting the time series\n",
    "ts.plot()"
   ]
  },
  {
   "cell_type": "markdown",
   "id": "57ccb7cc",
   "metadata": {},
   "source": [
    "## Categorical Data\n",
    "Pandas can include categorical data in a DataFrame, which can lead to more efficient storage and better performance for certain operations."
   ]
  },
  {
   "cell_type": "code",
   "execution_count": 21,
   "id": "4cb830ca",
   "metadata": {},
   "outputs": [
    {
     "name": "stdout",
     "output_type": "stream",
     "text": [
      "grade\n",
      "very bad     0\n",
      "bad          0\n",
      "medium       0\n",
      "good         0\n",
      "very good    0\n",
      "dtype: int64\n"
     ]
    },
    {
     "name": "stderr",
     "output_type": "stream",
     "text": [
      "C:\\Users\\abdou\\AppData\\Local\\Temp\\ipykernel_28820\\2765931533.py:10: FutureWarning: The default of observed=False is deprecated and will be changed to True in a future version of pandas. Pass observed=False to retain current behavior or observed=True to adopt the future default and silence this warning.\n",
      "  group_sizes = df_cat.groupby('grade').size()\n"
     ]
    }
   ],
   "source": [
    "# Create the initial DataFrame\n",
    "df_cat = pd.DataFrame({'id': range(1, 6),\n",
    "                       'raw_grade': ['a', 'b', 'c', 'a', 'e']})\n",
    "\n",
    "# Convert 'raw_grade' to a categorical type with the specified categories\n",
    "categories = ['very bad', 'bad', 'medium', 'good', 'very good']\n",
    "df_cat['grade'] = pd.Categorical(df_cat['raw_grade'], categories=categories, ordered=True)\n",
    "\n",
    "# Compute group sizes\n",
    "group_sizes = df_cat.groupby('grade').size()\n",
    "\n",
    "# Reindex the group sizes to include all categories, filling missing values with 0\n",
    "group_sizes = group_sizes.reindex(categories, fill_value=0)\n",
    "\n",
    "# Print the group sizes\n",
    "print(group_sizes)\n"
   ]
  },
  {
   "cell_type": "code",
   "execution_count": 23,
   "id": "c6a47fab",
   "metadata": {},
   "outputs": [
    {
     "name": "stdout",
     "output_type": "stream",
     "text": [
      "grade\n",
      "very good    22\n",
      "good         14\n",
      "medium       18\n",
      "bad          15\n",
      "very bad     19\n",
      "fail         12\n",
      "dtype: int64\n"
     ]
    },
    {
     "name": "stderr",
     "output_type": "stream",
     "text": [
      "C:\\Users\\abdou\\AppData\\Local\\Temp\\ipykernel_28820\\4223968298.py:16: FutureWarning: The default of observed=False is deprecated and will be changed to True in a future version of pandas. Pass observed=False to retain current behavior or observed=True to adopt the future default and silence this warning.\n",
      "  group_sizes = df_cat.groupby('grade').size()\n"
     ]
    }
   ],
   "source": [
    "# Create a larger DataFrame\n",
    "df_cat = pd.DataFrame({\n",
    "    'id': range(1, 101),  # Increase the range for a larger DataFrame\n",
    "    'raw_grade': np.random.choice(['a', 'b', 'c', 'd', 'e', 'f'], size=100)  # Use numpy to randomly choose letters\n",
    "})\n",
    "\n",
    "# Map the randomly chosen letters to more descriptive categories\n",
    "grade_mapping = {'a': 'very good', 'b': 'good', 'c': 'medium', 'd': 'bad', 'e': 'very bad', 'f': 'fail'}\n",
    "\n",
    "# Convert 'raw_grade' to more descriptive categories and then to a categorical type\n",
    "df_cat['grade'] = df_cat['raw_grade'].map(grade_mapping)\n",
    "categories = ['very good', 'good', 'medium', 'bad', 'very bad', 'fail']\n",
    "df_cat['grade'] = pd.Categorical(df_cat['grade'], categories=categories, ordered=True)\n",
    "\n",
    "# Compute group sizes\n",
    "group_sizes = df_cat.groupby('grade').size()\n",
    "\n",
    "# Reindex the group sizes to include all categories, filling missing values with 0\n",
    "group_sizes = group_sizes.reindex(categories, fill_value=0)\n",
    "\n",
    "# Print the group sizes\n",
    "print(group_sizes)\n"
   ]
  },
  {
   "cell_type": "code",
   "execution_count": 19,
   "metadata": {},
   "outputs": [
    {
     "name": "stderr",
     "output_type": "stream",
     "text": [
      "C:\\Users\\abdou\\AppData\\Local\\Temp\\ipykernel_28820\\866965226.py:15: FutureWarning: The default of observed=False is deprecated and will be changed to True in a future version of pandas. Pass observed=False to retain current behavior or observed=True to adopt the future default and silence this warning.\n",
      "  df_cat.groupby('grade').size()\n"
     ]
    },
    {
     "data": {
      "text/plain": [
       "grade\n",
       "very bad     0\n",
       "bad          0\n",
       "medium       0\n",
       "good         0\n",
       "very good    0\n",
       "dtype: int64"
      ]
     },
     "execution_count": 19,
     "metadata": {},
     "output_type": "execute_result"
    }
   ],
   "source": [
    "df_cat = pd.DataFrame({'id': range(1, 6),\n",
    "                       'raw_grade': ['a', 'b', 'c', 'a', 'e']})\n",
    "\n",
    "df_cat['grade'] = df_cat['raw_grade'].astype('category')\n",
    "\n",
    "\n",
    "# set new categories\n",
    "df_cat['grade'] = df_cat['grade'].cat.set_categories(['very bad', 'bad', 'medium', 'good', 'very good'])\n",
    "\n",
    "df_cat.sort_values(by='grade')\n",
    "\n",
    "# Proceed with the grouping and size calculation\n",
    "df_cat.groupby('grade').size()\n"
   ]
  },
  {
   "cell_type": "markdown",
   "id": "77c74e6c",
   "metadata": {},
   "source": [
    "## Merging and Joining\n",
    "Pandas provides various ways to combine DataFrames including merge and join operations similar to what is found in SQL."
   ]
  },
  {
   "cell_type": "code",
   "execution_count": 47,
   "id": "1b68a411",
   "metadata": {},
   "outputs": [
    {
     "data": {
      "text/plain": [
       "<bound method NDFrame.head of   key   A   B   C   D\n",
       "0  K0  A0  B0  C0  D0\n",
       "1  K1  A1  B1  C1  D1\n",
       "2  K2  A2  B2  C2  D2\n",
       "3  K3  A3  B3  C3  D3>"
      ]
     },
     "execution_count": 47,
     "metadata": {},
     "output_type": "execute_result"
    }
   ],
   "source": [
    "# Merging two DataFrames\n",
    "df_left = pd.DataFrame({'key': ['K0', 'K1', 'K2', 'K3'],\n",
    "                        'A': ['A0', 'A1', 'A2', 'A3'],\n",
    "                        'B': ['B0', 'B1', 'B2', 'B3']})\n",
    "df_right = pd.DataFrame({'key': ['K0', 'K1', 'K2', 'K3'],\n",
    "                         'C': ['C0', 'C1', 'C2', 'C3'],\n",
    "                         'D': ['D0', 'D1', 'D2', 'D3']})\n",
    "result = pd.merge(df_left, df_right, on='key')\n",
    "result.head"
   ]
  },
  {
   "cell_type": "markdown",
   "id": "a3cc1e0c",
   "metadata": {},
   "source": [
    "## Reshaping\n",
    "Stacking and pivoting DataFrames are common methods used to reshape data for analysis."
   ]
  },
  {
   "cell_type": "code",
   "execution_count": 51,
   "id": "4231dfa0",
   "metadata": {},
   "outputs": [
    {
     "data": {
      "text/html": [
       "<div>\n",
       "<style scoped>\n",
       "    .dataframe tbody tr th:only-of-type {\n",
       "        vertical-align: middle;\n",
       "    }\n",
       "\n",
       "    .dataframe tbody tr th {\n",
       "        vertical-align: top;\n",
       "    }\n",
       "\n",
       "    .dataframe thead th {\n",
       "        text-align: right;\n",
       "    }\n",
       "</style>\n",
       "<table border=\"1\" class=\"dataframe\">\n",
       "  <thead>\n",
       "    <tr style=\"text-align: right;\">\n",
       "      <th></th>\n",
       "      <th>A</th>\n",
       "      <th>B</th>\n",
       "    </tr>\n",
       "  </thead>\n",
       "  <tbody>\n",
       "    <tr>\n",
       "      <th>2020-01-01</th>\n",
       "      <td>0.473601</td>\n",
       "      <td>-0.779264</td>\n",
       "    </tr>\n",
       "    <tr>\n",
       "      <th>2020-01-02</th>\n",
       "      <td>0.852790</td>\n",
       "      <td>1.180986</td>\n",
       "    </tr>\n",
       "    <tr>\n",
       "      <th>2020-01-03</th>\n",
       "      <td>-0.979074</td>\n",
       "      <td>0.847488</td>\n",
       "    </tr>\n",
       "    <tr>\n",
       "      <th>2020-01-04</th>\n",
       "      <td>0.430014</td>\n",
       "      <td>0.780078</td>\n",
       "    </tr>\n",
       "    <tr>\n",
       "      <th>2020-01-05</th>\n",
       "      <td>0.187298</td>\n",
       "      <td>-1.833877</td>\n",
       "    </tr>\n",
       "    <tr>\n",
       "      <th>2020-01-06</th>\n",
       "      <td>0.394211</td>\n",
       "      <td>0.118593</td>\n",
       "    </tr>\n",
       "    <tr>\n",
       "      <th>2020-01-07</th>\n",
       "      <td>1.852684</td>\n",
       "      <td>-0.735516</td>\n",
       "    </tr>\n",
       "    <tr>\n",
       "      <th>2020-01-08</th>\n",
       "      <td>-1.706881</td>\n",
       "      <td>-1.313007</td>\n",
       "    </tr>\n",
       "  </tbody>\n",
       "</table>\n",
       "</div>"
      ],
      "text/plain": [
       "                   A         B\n",
       "2020-01-01  0.473601 -0.779264\n",
       "2020-01-02  0.852790  1.180986\n",
       "2020-01-03 -0.979074  0.847488\n",
       "2020-01-04  0.430014  0.780078\n",
       "2020-01-05  0.187298 -1.833877\n",
       "2020-01-06  0.394211  0.118593\n",
       "2020-01-07  1.852684 -0.735516\n",
       "2020-01-08 -1.706881 -1.313007"
      ]
     },
     "execution_count": 51,
     "metadata": {},
     "output_type": "execute_result"
    }
   ],
   "source": [
    "# Reshaping Data using stack and pivot\n",
    "df4 = pd.DataFrame(np.random.randn(8, 2), index=pd.date_range('1/1/2020', periods=8), columns=['A', 'B'])\n",
    "df_stacked = df4.stack()\n",
    "df_stacked.unstack()"
   ]
  },
  {
   "cell_type": "code",
   "execution_count": 52,
   "id": "84c7156a",
   "metadata": {},
   "outputs": [
    {
     "data": {
      "text/html": [
       "<div>\n",
       "<style scoped>\n",
       "    .dataframe tbody tr th:only-of-type {\n",
       "        vertical-align: middle;\n",
       "    }\n",
       "\n",
       "    .dataframe tbody tr th {\n",
       "        vertical-align: top;\n",
       "    }\n",
       "\n",
       "    .dataframe thead th {\n",
       "        text-align: right;\n",
       "    }\n",
       "</style>\n",
       "<table border=\"1\" class=\"dataframe\">\n",
       "  <thead>\n",
       "    <tr style=\"text-align: right;\">\n",
       "      <th></th>\n",
       "      <th>C</th>\n",
       "      <th>bar</th>\n",
       "      <th>foo</th>\n",
       "    </tr>\n",
       "    <tr>\n",
       "      <th>A</th>\n",
       "      <th>B</th>\n",
       "      <th></th>\n",
       "      <th></th>\n",
       "    </tr>\n",
       "  </thead>\n",
       "  <tbody>\n",
       "    <tr>\n",
       "      <th rowspan=\"3\" valign=\"top\">one</th>\n",
       "      <th>A</th>\n",
       "      <td>0.502018</td>\n",
       "      <td>-0.019403</td>\n",
       "    </tr>\n",
       "    <tr>\n",
       "      <th>B</th>\n",
       "      <td>-0.171639</td>\n",
       "      <td>0.242746</td>\n",
       "    </tr>\n",
       "    <tr>\n",
       "      <th>C</th>\n",
       "      <td>-1.246132</td>\n",
       "      <td>0.776902</td>\n",
       "    </tr>\n",
       "    <tr>\n",
       "      <th rowspan=\"3\" valign=\"top\">three</th>\n",
       "      <th>A</th>\n",
       "      <td>-1.317466</td>\n",
       "      <td>NaN</td>\n",
       "    </tr>\n",
       "    <tr>\n",
       "      <th>B</th>\n",
       "      <td>NaN</td>\n",
       "      <td>-1.260272</td>\n",
       "    </tr>\n",
       "    <tr>\n",
       "      <th>C</th>\n",
       "      <td>-0.093884</td>\n",
       "      <td>NaN</td>\n",
       "    </tr>\n",
       "    <tr>\n",
       "      <th rowspan=\"3\" valign=\"top\">two</th>\n",
       "      <th>A</th>\n",
       "      <td>NaN</td>\n",
       "      <td>1.409504</td>\n",
       "    </tr>\n",
       "    <tr>\n",
       "      <th>B</th>\n",
       "      <td>-0.116510</td>\n",
       "      <td>NaN</td>\n",
       "    </tr>\n",
       "    <tr>\n",
       "      <th>C</th>\n",
       "      <td>NaN</td>\n",
       "      <td>-0.096694</td>\n",
       "    </tr>\n",
       "  </tbody>\n",
       "</table>\n",
       "</div>"
      ],
      "text/plain": [
       "C             bar       foo\n",
       "A     B                    \n",
       "one   A  0.502018 -0.019403\n",
       "      B -0.171639  0.242746\n",
       "      C -1.246132  0.776902\n",
       "three A -1.317466       NaN\n",
       "      B       NaN -1.260272\n",
       "      C -0.093884       NaN\n",
       "two   A       NaN  1.409504\n",
       "      B -0.116510       NaN\n",
       "      C       NaN -0.096694"
      ]
     },
     "execution_count": 52,
     "metadata": {},
     "output_type": "execute_result"
    }
   ],
   "source": [
    "# Pivot tables\n",
    "df5 = pd.DataFrame({'A': ['one', 'one', 'two', 'three'] * 3,\n",
    "                    'B': ['A', 'B', 'C'] * 4,\n",
    "                    'C': ['foo', 'foo', 'foo', 'bar', 'bar', 'bar'] * 2,\n",
    "                    'D': np.random.randn(12),\n",
    "                    'E': np.random.randn(12)})\n",
    "pd.pivot_table(df5, values='D', index=['A', 'B'], columns=['C'])"
   ]
  },
  {
   "cell_type": "markdown",
   "id": "0f912aaf",
   "metadata": {},
   "source": [
    "## Working with Text Data\n",
    "Pandas provides a range of methods to work efficiently with text data."
   ]
  },
  {
   "cell_type": "code",
   "execution_count": 53,
   "id": "65638a0f",
   "metadata": {},
   "outputs": [
    {
     "data": {
      "text/plain": [
       "0       A\n",
       "1       B\n",
       "2       C\n",
       "3       A\n",
       "4       B\n",
       "5       C\n",
       "6    None\n",
       "7     DOG\n",
       "8     CAT\n",
       "dtype: object"
      ]
     },
     "execution_count": 53,
     "metadata": {},
     "output_type": "execute_result"
    }
   ],
   "source": [
    "df_text = pd.Series(['a', 'b', 'c', 'A', 'B', 'C', None, 'dog', 'cat'])\n",
    "df_text.str.upper()"
   ]
  },
  {
   "cell_type": "code",
   "execution_count": null,
   "id": "18d8ba56",
   "metadata": {},
   "outputs": [
    {
     "data": {
      "text/plain": [
       "0      0.21753606965033023_SUFFIX\n",
       "1      -2.3242844146609736_SUFFIX\n",
       "2       1.2003568819674024_SUFFIX\n",
       "3     -0.10670787455564092_SUFFIX\n",
       "4      -0.8348464016311768_SUFFIX\n",
       "5      0.38444425242994845_SUFFIX\n",
       "6      0.49054741168568505_SUFFIX\n",
       "7       0.6135647340094275_SUFFIX\n",
       "8       1.5328371377334977_SUFFIX\n",
       "9      -0.4278493739068095_SUFFIX\n",
       "10      0.3938048933518728_SUFFIX\n",
       "11      -1.399305940727894_SUFFIX\n",
       "12      1.4358820002281303_SUFFIX\n",
       "13     -1.1941154412334534_SUFFIX\n",
       "14     0.26629338231078054_SUFFIX\n",
       "15       2.003441370477821_SUFFIX\n",
       "Name: G, dtype: object"
      ]
     },
     "metadata": {},
     "output_type": "display_data"
    }
   ],
   "source": [
    "df3['G'] = df3['E'].astype(str) + '_suffix'\n",
    "# String methods on Series\n",
    "df3['G'].str.upper()"
   ]
  },
  {
   "cell_type": "markdown",
   "id": "f81c34b8",
   "metadata": {},
   "source": [
    "## Visualization with Pandas\n",
    "Pandas comes bundled with basic plotting capabilities that use matplotlib under the hood."
   ]
  },
  {
   "cell_type": "code",
   "execution_count": 55,
   "id": "9a8b26a9",
   "metadata": {},
   "outputs": [
    {
     "data": {
      "text/plain": [
       "<matplotlib.legend.Legend at 0x20b8028a330>"
      ]
     },
     "execution_count": 55,
     "metadata": {},
     "output_type": "execute_result"
    },
    {
     "data": {
      "text/plain": [
       "<Figure size 640x480 with 0 Axes>"
      ]
     },
     "metadata": {},
     "output_type": "display_data"
    },
    {
     "data": {
      "image/png": "[encoded data removed]",
      "text/plain": [
       "<Figure size 640x480 with 1 Axes>"
      ]
     },
     "metadata": {},
     "output_type": "display_data"
    }
   ],
   "source": [
    "df_visual = pd.DataFrame(np.random.randn(1000, 4), index=ts.index, columns=['A', 'B', 'C', 'D'])\n",
    "df_visual = df_visual.cumsum()\n",
    "plt.figure(); df_visual.plot(); plt.legend(loc='best')"
   ]
  },
  {
   "cell_type": "markdown",
   "id": "a147226b",
   "metadata": {},
   "source": [
    "## Plotting & complementary packages \n",
    "We'll use pandas' built-in plotting capabilities to visualize our data."
   ]
  },
  {
   "cell_type": "code",
   "execution_count": null,
   "id": "f317facb",
   "metadata": {},
   "outputs": [
    {
     "data": {
      "image/png": "[encoded data removed]",
      "text/plain": [
       "<Figure size 640x480 with 1 Axes>"
      ]
     },
     "metadata": {},
     "output_type": "display_data"
    }
   ],
   "source": [
    "import matplotlib.pyplot as plt\n",
    "df2.plot()\n",
    "plt.show()"
   ]
  }
 ],
 "metadata": {
  "kernelspec": {
   "display_name": "Python 3",
   "language": "python",
   "name": "python3"
  },
  "language_info": {
   "codemirror_mode": {
    "name": "ipython",
    "version": 3
   },
   "file_extension": ".py",
   "mimetype": "text/x-python",
   "name": "python",
   "nbconvert_exporter": "python",
   "pygments_lexer": "ipython3",
   "version": "3.12.2"
  }
 },
 "nbformat": 4,
 "nbformat_minor": 5
}
