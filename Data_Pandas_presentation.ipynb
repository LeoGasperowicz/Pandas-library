{
 "cells": [
  {
   "cell_type": "markdown",
   "id": "b61cbc0c",
   "metadata": {},
   "source": [
    "# Data Analysis with Pandas"
   ]
  },
  {
   "cell_type": "markdown",
   "id": "f9123306",
   "metadata": {},
   "source": [
    "## I - Core components of DataFrames and Series \n",
    "## II - Creation & importation of a DataFrame\n",
    "## III - Important Keywords with df\n",
    "## IV - Basic Operations\n",
    "## V - Data Cleaning\n",
    "## VI - Advanced Manipulation \n",
    "## VII - Merging, Joining & Reshaping \n",
    "## VIII - Plotting & complementary packages \n",
    "## IX - Advantages and Drawbacks"
   ]
  },
  {
   "cell_type": "markdown",
   "id": "360c1925",
   "metadata": {},
   "source": [
    "\n",
    "\n",
    "\n",
    "\n",
    "\n",
    "\n",
    "\n",
    ".\n",
    "\n",
    "\n",
    "\n",
    "\n",
    "\n",
    "\n",
    "."
   ]
  },
  {
   "cell_type": "markdown",
   "id": "f4cdba21",
   "metadata": {},
   "source": [
    "## Introduction\n",
    "Pandas is a powerful data analysis and manipulation library for Python. In this notebook, we'll explore various functionalities of pandas, from basic data structures like Series and DataFrames to more complex data manipulation techniques."
   ]
  },
  {
   "cell_type": "markdown",
   "id": "ce14dc33",
   "metadata": {},
   "source": [
    "## Installation\n",
    "Pandas can be installed using `pip` as follows:\n",
    "```python\n",
    "!pip install pandas\n",
    "```\n",
    "Alternatively, if you are using Anaconda, you can install using `conda`:\n",
    "```python\n",
    "conda install pandas\n",
    "```\n",
    "To import pandas, use the following command:\n",
    "```python\n",
    "import pandas as pd\n",
    "```"
   ]
  },
  {
   "cell_type": "markdown",
   "id": "725da214",
   "metadata": {},
   "source": [
    "## Core Components of Pandas\n",
    "The primary two components of pandas are the `Series` and `DataFrame`.\n",
    "A `Series` is essentially a column, and a `DataFrame` is a multi-dimensional table made up of a collection of Series."
   ]
  },
  {
   "cell_type": "code",
   "execution_count": 2,
   "id": "ff0bb374",
   "metadata": {},
   "outputs": [],
   "source": [
    "import pandas as pd\n",
    "import numpy as np"
   ]
  },
  {
   "cell_type": "code",
   "execution_count": 4,
   "id": "8b404dac",
   "metadata": {},
   "outputs": [
    {
     "data": {
      "text/html": [
       "<div>\n",
       "<style scoped>\n",
       "    .dataframe tbody tr th:only-of-type {\n",
       "        vertical-align: middle;\n",
       "    }\n",
       "\n",
       "    .dataframe tbody tr th {\n",
       "        vertical-align: top;\n",
       "    }\n",
       "\n",
       "    .dataframe thead th {\n",
       "        text-align: right;\n",
       "    }\n",
       "</style>\n",
       "<table border=\"1\" class=\"dataframe\">\n",
       "  <thead>\n",
       "    <tr style=\"text-align: right;\">\n",
       "      <th></th>\n",
       "      <th>A</th>\n",
       "      <th>B</th>\n",
       "      <th>C</th>\n",
       "      <th>D</th>\n",
       "    </tr>\n",
       "  </thead>\n",
       "  <tbody>\n",
       "    <tr>\n",
       "      <th>2023-01-01</th>\n",
       "      <td>0.607828</td>\n",
       "      <td>-0.048787</td>\n",
       "      <td>-1.681378</td>\n",
       "      <td>-0.220123</td>\n",
       "    </tr>\n",
       "    <tr>\n",
       "      <th>2023-01-02</th>\n",
       "      <td>-0.967545</td>\n",
       "      <td>-1.601654</td>\n",
       "      <td>0.154747</td>\n",
       "      <td>-1.020050</td>\n",
       "    </tr>\n",
       "    <tr>\n",
       "      <th>2023-01-03</th>\n",
       "      <td>-0.663582</td>\n",
       "      <td>1.664068</td>\n",
       "      <td>-1.553097</td>\n",
       "      <td>-0.680098</td>\n",
       "    </tr>\n",
       "    <tr>\n",
       "      <th>2023-01-04</th>\n",
       "      <td>0.720539</td>\n",
       "      <td>0.513021</td>\n",
       "      <td>1.356947</td>\n",
       "      <td>-1.802703</td>\n",
       "    </tr>\n",
       "    <tr>\n",
       "      <th>2023-01-05</th>\n",
       "      <td>1.419806</td>\n",
       "      <td>-0.243408</td>\n",
       "      <td>0.128545</td>\n",
       "      <td>-1.233986</td>\n",
       "    </tr>\n",
       "  </tbody>\n",
       "</table>\n",
       "</div>"
      ],
      "text/plain": [
       "                   A         B         C         D\n",
       "2023-01-01  0.607828 -0.048787 -1.681378 -0.220123\n",
       "2023-01-02 -0.967545 -1.601654  0.154747 -1.020050\n",
       "2023-01-03 -0.663582  1.664068 -1.553097 -0.680098\n",
       "2023-01-04  0.720539  0.513021  1.356947 -1.802703\n",
       "2023-01-05  1.419806 -0.243408  0.128545 -1.233986"
      ]
     },
     "execution_count": 4,
     "metadata": {},
     "output_type": "execute_result"
    }
   ],
   "source": [
    "# Creating a Series\n",
    "series = pd.Series([1, 3, 5, np.nan, 6, 8])\n",
    "\n",
    "# Creating a DataFrame by passing a numpy array\n",
    "dates = pd.date_range('20230101', periods=6)\n",
    "df = pd.DataFrame(np.random.randn(6, 4), index=dates, columns=list('ABCD'))\n",
    "\n",
    "# Creating a DataFrame by passing a dict of objects\n",
    "df2 = pd.DataFrame({ 'A' : 1.,\n",
    "                     'B' : pd.Timestamp('20130102'),\n",
    "                     'C' : pd.Series(1, index=list(range(4)), dtype='float32'),\n",
    "                     'D' : np.array([3] * 4, dtype='int32'),\n",
    "                     'E' : pd.Categorical(['test', 'train', 'test', 'train']),\n",
    "                     'F' : 'gone' })\n",
    "#df2.describe()\n",
    "\n",
    "df.head()"
   ]
  },
  {
   "cell_type": "code",
   "execution_count": 5,
   "id": "bd9c4cb9",
   "metadata": {},
   "outputs": [
    {
     "data": {
      "text/html": [
       "<div>\n",
       "<style scoped>\n",
       "    .dataframe tbody tr th:only-of-type {\n",
       "        vertical-align: middle;\n",
       "    }\n",
       "\n",
       "    .dataframe tbody tr th {\n",
       "        vertical-align: top;\n",
       "    }\n",
       "\n",
       "    .dataframe thead th {\n",
       "        text-align: right;\n",
       "    }\n",
       "</style>\n",
       "<table border=\"1\" class=\"dataframe\">\n",
       "  <thead>\n",
       "    <tr style=\"text-align: right;\">\n",
       "      <th></th>\n",
       "      <th>A</th>\n",
       "      <th>B</th>\n",
       "      <th>C</th>\n",
       "      <th>D</th>\n",
       "      <th>E</th>\n",
       "      <th>F</th>\n",
       "    </tr>\n",
       "  </thead>\n",
       "  <tbody>\n",
       "    <tr>\n",
       "      <th>0</th>\n",
       "      <td>1.0</td>\n",
       "      <td>2013-01-02</td>\n",
       "      <td>1.0</td>\n",
       "      <td>3</td>\n",
       "      <td>test</td>\n",
       "      <td>gone</td>\n",
       "    </tr>\n",
       "    <tr>\n",
       "      <th>1</th>\n",
       "      <td>1.0</td>\n",
       "      <td>2013-01-02</td>\n",
       "      <td>1.0</td>\n",
       "      <td>3</td>\n",
       "      <td>train</td>\n",
       "      <td>gone</td>\n",
       "    </tr>\n",
       "    <tr>\n",
       "      <th>2</th>\n",
       "      <td>1.0</td>\n",
       "      <td>2013-01-02</td>\n",
       "      <td>1.0</td>\n",
       "      <td>3</td>\n",
       "      <td>test</td>\n",
       "      <td>gone</td>\n",
       "    </tr>\n",
       "    <tr>\n",
       "      <th>3</th>\n",
       "      <td>1.0</td>\n",
       "      <td>2013-01-02</td>\n",
       "      <td>1.0</td>\n",
       "      <td>3</td>\n",
       "      <td>train</td>\n",
       "      <td>gone</td>\n",
       "    </tr>\n",
       "  </tbody>\n",
       "</table>\n",
       "</div>"
      ],
      "text/plain": [
       "     A          B    C  D      E     F\n",
       "0  1.0 2013-01-02  1.0  3   test  gone\n",
       "1  1.0 2013-01-02  1.0  3  train  gone\n",
       "2  1.0 2013-01-02  1.0  3   test  gone\n",
       "3  1.0 2013-01-02  1.0  3  train  gone"
      ]
     },
     "execution_count": 5,
     "metadata": {},
     "output_type": "execute_result"
    }
   ],
   "source": [
    "df2.head()"
   ]
  },
  {
   "cell_type": "markdown",
   "id": "d1b87db2",
   "metadata": {},
   "source": [
    "## Creating a DataFrame\n",
    "There are multiple ways to create a DataFrame. Here, we'll create one using a dictionary of lists."
   ]
  },
  {
   "cell_type": "code",
   "execution_count": null,
   "id": "0c9254ad",
   "metadata": {},
   "outputs": [
    {
     "name": "stdout",
     "output_type": "stream",
     "text": [
      "   A  B   C   D\n",
      "0  1  5   9  13\n",
      "1  2  6  10  14\n",
      "2  3  7  11  15\n",
      "3  4  8  12  16\n"
     ]
    }
   ],
   "source": [
    "data = {'A': [1, 2, 3, 4],\n",
    "        'B': [5, 6, 7, 8],\n",
    "        'C': [9, 10, 11, 12],\n",
    "        'D': [13, 14, 15, 16]}\n",
    "df2 = pd.DataFrame(data)\n",
    "print(df2)"
   ]
  },
  {
   "cell_type": "markdown",
   "id": "4367cc99",
   "metadata": {},
   "source": [
    "**From a csv file**"
   ]
  },
  {
   "cell_type": "code",
   "execution_count": 6,
   "id": "43b0a63b",
   "metadata": {},
   "outputs": [
    {
     "data": {
      "text/plain": [
       "<bound method NDFrame.head of     Username   Identifier First name Last name\n",
       "0   booker12         9012     Rachel    Booker\n",
       "1     grey07         2070      Laura      Grey\n",
       "2  johnson81         4081      Craig   Johnson\n",
       "3  jenkins46         9346       Mary   Jenkins\n",
       "4    smith79         5079      Jamie     Smith>"
      ]
     },
     "execution_count": 6,
     "metadata": {},
     "output_type": "execute_result"
    }
   ],
   "source": [
    "dfn = pd.read_csv(r\"D:\\Documents\\UVIC\\Stats & Data Analysis\\Pres\\username.csv\", sep=\";\")\n",
    "dfn.head"
   ]
  },
  {
   "cell_type": "markdown",
   "id": "f6a5f37d",
   "metadata": {},
   "source": [
    "## Series and DataFrame\n",
    "Pandas has two main data structures: Series and DataFrame. Series represents a one-dimensional array, and DataFrame is a two-dimensional table of data with rows and columns.\n",
    "\n",
    "Dataframes store data in the form of a grid (table) with rows and columns. Each column is used to store similar type of data (or variables/parameters) while each row is an instance of a value. Similar to a spreadsheet on Excel. "
   ]
  },
  {
   "cell_type": "code",
   "execution_count": 4,
   "id": "38e94757",
   "metadata": {},
   "outputs": [
    {
     "name": "stdout",
     "output_type": "stream",
     "text": [
      "   0  1  2\n",
      "0  0  2  3\n"
     ]
    },
    {
     "data": {
      "text/plain": [
       "0    1.0\n",
       "1    3.0\n",
       "2    5.0\n",
       "3    NaN\n",
       "4    6.0\n",
       "5    8.0\n",
       "dtype: float64"
      ]
     },
     "execution_count": 4,
     "metadata": {},
     "output_type": "execute_result"
    }
   ],
   "source": [
    "s = pd.Series([1, 3, 5, np.nan, 6, 8])\n",
    "dates = pd.date_range('20230101', periods=6)\n",
    "df = pd.DataFrame(np.random.randn(6, 4), index=dates, columns=list('ABCD'))\n",
    "\n",
    "#from a numpy array\n",
    "data = np.array([\"0\",\"2\",\"3\"]),\n",
    "print(pd.DataFrame(data))\n",
    "s"
   ]
  },
  {
   "cell_type": "markdown",
   "id": "53163afc",
   "metadata": {},
   "source": [
    "# Pandas DataFrame Keywords Explanation\n",
    "\n",
    "In this part, we will cover several essential keywords and methods used in the pandas library, which are crucial for data manipulation and analysis.\n",
    "\n",
    "**Timestamp**\n",
    "`Timestamp` represents a single point in time. It is the pandas equivalent to Python's `datetime` and is interchangeable with it in most cases.\n",
    "\n",
    "```python\n",
    "import pandas as pd\n",
    "# Example of creating a Timestamp\n",
    "timestamp = pd.Timestamp('2022-01-01 10:00')\n",
    "print(timestamp)\n"
   ]
  },
  {
   "cell_type": "code",
   "execution_count": null,
   "id": "c42e50ab",
   "metadata": {},
   "outputs": [],
   "source": [
    "# Example of converting a series to categorical type\n",
    "s = pd.Series([\"a\", \"b\", \"c\", \"a\"], dtype=\"category\")\n",
    "print(s)"
   ]
  },
  {
   "cell_type": "code",
   "execution_count": null,
   "id": "76ce55c7",
   "metadata": {},
   "outputs": [],
   "source": [
    "# Example of reading a CSV file\n",
    "df = pd.read_csv('file_path.csv')"
   ]
  },
  {
   "cell_type": "code",
   "execution_count": null,
   "id": "e5b0ed3c",
   "metadata": {},
   "outputs": [],
   "source": [
    "#sort_values sorts a DataFrame by the values of one or more columns.\n",
    "df.sort_values(by='column_name', ascending=True)"
   ]
  },
  {
   "cell_type": "code",
   "execution_count": null,
   "id": "d3c11e37",
   "metadata": {},
   "outputs": [],
   "source": [
    "#dropna removes missing values from a DataFrame.\n",
    "df.dropna()\n"
   ]
  },
  {
   "cell_type": "code",
   "execution_count": null,
   "id": "c2818c55",
   "metadata": {},
   "outputs": [],
   "source": [
    "#drop is used to remove rows or columns by specifying label names and the corresponding axis.\n",
    "df.drop('column_name', axis=1)"
   ]
  },
  {
   "cell_type": "code",
   "execution_count": null,
   "id": "0aeccc91",
   "metadata": {},
   "outputs": [],
   "source": [
    "#fillna replaces missing values with a specified value.\n",
    "df.fillna(value=0)"
   ]
  },
  {
   "cell_type": "code",
   "execution_count": null,
   "id": "f50d459b",
   "metadata": {},
   "outputs": [],
   "source": [
    "#groupby allows grouping DataFrame rows based on the values of a specified column and applying a function to each group.\n",
    "grouped = df.groupby('column_name')"
   ]
  },
  {
   "cell_type": "code",
   "execution_count": null,
   "id": "465ee2d1",
   "metadata": {},
   "outputs": [],
   "source": [
    "#groupby.agg() allows applying multiple aggregation operations to the grouped data.\n",
    "df.groupby('column').agg({'data1': 'sum', 'data2': 'max'})"
   ]
  },
  {
   "cell_type": "code",
   "execution_count": 8,
   "id": "8daf1b59",
   "metadata": {},
   "outputs": [
    {
     "name": "stdout",
     "output_type": "stream",
     "text": [
      "  group  data1  data2\n",
      "0     A     10    100\n",
      "1     A     20     50\n",
      "2     B     10     40\n",
      "3     B     30     80\n",
      "       data1  data2\n",
      "group              \n",
      "A         30    100\n",
      "B         40     80\n"
     ]
    }
   ],
   "source": [
    "# Sample DataFrame\n",
    "dfagg = pd.DataFrame({\n",
    "    'group': ['A', 'A', 'B', 'B'],\n",
    "    'data1': [10, 20, 10, 30],\n",
    "    'data2': [100, 50, 40, 80]\n",
    "})\n",
    "\n",
    "# Perform the aggregation\n",
    "result = dfagg.groupby('group').agg({'data1': 'sum', 'data2': 'max'})\n",
    "print(dfagg)\n",
    "print(result)"
   ]
  },
  {
   "cell_type": "code",
   "execution_count": 11,
   "id": "4db4589e",
   "metadata": {},
   "outputs": [
    {
     "name": "stdout",
     "output_type": "stream",
     "text": [
      "70\n"
     ]
    }
   ],
   "source": [
    "#sum adds the values in a DataFrame or Series, typically used after grouping.\n",
    "res = dfagg['data1'].sum()\n",
    "print(res)"
   ]
  },
  {
   "cell_type": "code",
   "execution_count": 12,
   "id": "35fc91a4",
   "metadata": {},
   "outputs": [
    {
     "name": "stdout",
     "output_type": "stream",
     "text": [
      "       data1  data2\n",
      "group              \n",
      "A         30    150\n",
      "B         40    120\n"
     ]
    }
   ],
   "source": [
    "#groupby.sum() computes the sum of the grouped data.\n",
    "print(dfagg.groupby('group').sum())"
   ]
  },
  {
   "cell_type": "code",
   "execution_count": null,
   "id": "d7c25c73",
   "metadata": {},
   "outputs": [],
   "source": [
    "#astype is used to cast a pandas object to a specified dtype.\n",
    "df['column_name'].astype('int32')"
   ]
  },
  {
   "cell_type": "code",
   "execution_count": null,
   "id": "7539897e",
   "metadata": {},
   "outputs": [],
   "source": [
    "#cat is an accessor used to handle categorical data.\n",
    "s['categorical_column'].cat.categories"
   ]
  },
  {
   "cell_type": "code",
   "execution_count": null,
   "id": "a7ac58f1",
   "metadata": {},
   "outputs": [],
   "source": [
    "#set_categories is used to define the categories explicitly.\n",
    "df['categorical_column'].cat.set_categories(['category1', 'category2'])"
   ]
  },
  {
   "cell_type": "markdown",
   "id": "c456acc8",
   "metadata": {},
   "source": [
    "## Basic DataFrame Operations\n",
    "Let's see how to view data, select, sort, and add new data to our DataFrame."
   ]
  },
  {
   "cell_type": "code",
   "execution_count": 15,
   "id": "b63fbcb2",
   "metadata": {},
   "outputs": [
    {
     "name": "stdout",
     "output_type": "stream",
     "text": [
      "   A  B   C   D\n",
      "0  1  5   9  13\n",
      "1  2  6  10  14\n",
      "2  3  7  11  15\n",
      "3  4  8  12  16\n",
      "   A  B   C   D\n",
      "1  2  6  10  14\n",
      "2  3  7  11  15\n",
      "3  4  8  12  16\n",
      "              A         B          C          D\n",
      "count  4.000000  4.000000   4.000000   4.000000\n",
      "mean   2.500000  6.500000  10.500000  14.500000\n",
      "std    1.290994  1.290994   1.290994   1.290994\n",
      "min    1.000000  5.000000   9.000000  13.000000\n",
      "25%    1.750000  5.750000   9.750000  13.750000\n",
      "50%    2.500000  6.500000  10.500000  14.500000\n",
      "75%    3.250000  7.250000  11.250000  15.250000\n",
      "max    4.000000  8.000000  12.000000  16.000000\n"
     ]
    }
   ],
   "source": [
    "print(df2.head())\n",
    "print(df2.tail(3))\n",
    "print(df2.describe())\n",
    "df2.sort_values(by='B')\n",
    "df2['E'] = df2['A'] + df2['B']"
   ]
  },
  {
   "cell_type": "code",
   "execution_count": null,
   "id": "d9b161bf",
   "metadata": {},
   "outputs": [
    {
     "data": {
      "text/html": [
       "<div>\n",
       "<style scoped>\n",
       "    .dataframe tbody tr th:only-of-type {\n",
       "        vertical-align: middle;\n",
       "    }\n",
       "\n",
       "    .dataframe tbody tr th {\n",
       "        vertical-align: top;\n",
       "    }\n",
       "\n",
       "    .dataframe thead th {\n",
       "        text-align: right;\n",
       "    }\n",
       "</style>\n",
       "<table border=\"1\" class=\"dataframe\">\n",
       "  <thead>\n",
       "    <tr style=\"text-align: right;\">\n",
       "      <th></th>\n",
       "      <th>A</th>\n",
       "      <th>B</th>\n",
       "      <th>C</th>\n",
       "      <th>D</th>\n",
       "    </tr>\n",
       "  </thead>\n",
       "  <tbody>\n",
       "    <tr>\n",
       "      <th>2023-01-02</th>\n",
       "      <td>-0.806874</td>\n",
       "      <td>-0.689775</td>\n",
       "      <td>-0.280344</td>\n",
       "      <td>-0.236044</td>\n",
       "    </tr>\n",
       "    <tr>\n",
       "      <th>2023-01-01</th>\n",
       "      <td>-0.003607</td>\n",
       "      <td>-0.584760</td>\n",
       "      <td>2.025843</td>\n",
       "      <td>-0.550929</td>\n",
       "    </tr>\n",
       "    <tr>\n",
       "      <th>2023-01-05</th>\n",
       "      <td>0.576850</td>\n",
       "      <td>0.151869</td>\n",
       "      <td>0.913662</td>\n",
       "      <td>-0.485021</td>\n",
       "    </tr>\n",
       "    <tr>\n",
       "      <th>2023-01-06</th>\n",
       "      <td>-0.283520</td>\n",
       "      <td>0.271833</td>\n",
       "      <td>1.036482</td>\n",
       "      <td>-0.311588</td>\n",
       "    </tr>\n",
       "    <tr>\n",
       "      <th>2023-01-04</th>\n",
       "      <td>0.772526</td>\n",
       "      <td>0.494485</td>\n",
       "      <td>-0.529486</td>\n",
       "      <td>0.276304</td>\n",
       "    </tr>\n",
       "    <tr>\n",
       "      <th>2023-01-03</th>\n",
       "      <td>0.590829</td>\n",
       "      <td>2.549776</td>\n",
       "      <td>-0.493782</td>\n",
       "      <td>-0.848701</td>\n",
       "    </tr>\n",
       "  </tbody>\n",
       "</table>\n",
       "</div>"
      ],
      "text/plain": [
       "                   A         B         C         D\n",
       "2023-01-02 -0.806874 -0.689775 -0.280344 -0.236044\n",
       "2023-01-01 -0.003607 -0.584760  2.025843 -0.550929\n",
       "2023-01-05  0.576850  0.151869  0.913662 -0.485021\n",
       "2023-01-06 -0.283520  0.271833  1.036482 -0.311588\n",
       "2023-01-04  0.772526  0.494485 -0.529486  0.276304\n",
       "2023-01-03  0.590829  2.549776 -0.493782 -0.848701"
      ]
     },
     "metadata": {},
     "output_type": "display_data"
    }
   ],
   "source": [
    "# Viewing the top rows of the DataFrame\n",
    "df.head()\n",
    "\n",
    "# Viewing the index, columns, and the underlying numpy data\n",
    "df.index\n",
    "df.columns\n",
    "df.to_numpy()\n",
    "\n",
    "# Describe shows a quick statistic summary of your data\n",
    "df.describe()\n",
    "\n",
    "# Sorting by an axis and by values\n",
    "df.sort_index(axis=1, ascending=False)\n",
    "df.sort_values(by='B')"
   ]
  },
  {
   "cell_type": "markdown",
   "id": "8c678907",
   "metadata": {},
   "source": [
    "## Data Cleaning\n",
    "Data cleaning is a crucial step in data analysis. We'll demonstrate how to handle missing data and drop duplicates."
   ]
  },
  {
   "cell_type": "code",
   "execution_count": 24,
   "id": "16496ac5",
   "metadata": {},
   "outputs": [
    {
     "name": "stdout",
     "output_type": "stream",
     "text": [
      "   A  B     C   D   E\n",
      "0  1  5   9.0  13   6\n",
      "1  2  6  10.0  14   8\n",
      "2  3  7   NaN  15  10\n",
      "3  4  8  12.0  16  12\n"
     ]
    },
    {
     "data": {
      "text/html": [
       "<div>\n",
       "<style scoped>\n",
       "    .dataframe tbody tr th:only-of-type {\n",
       "        vertical-align: middle;\n",
       "    }\n",
       "\n",
       "    .dataframe tbody tr th {\n",
       "        vertical-align: top;\n",
       "    }\n",
       "\n",
       "    .dataframe thead th {\n",
       "        text-align: right;\n",
       "    }\n",
       "</style>\n",
       "<table border=\"1\" class=\"dataframe\">\n",
       "  <thead>\n",
       "    <tr style=\"text-align: right;\">\n",
       "      <th></th>\n",
       "      <th>A</th>\n",
       "      <th>B</th>\n",
       "      <th>C</th>\n",
       "      <th>D</th>\n",
       "      <th>E</th>\n",
       "    </tr>\n",
       "  </thead>\n",
       "  <tbody>\n",
       "    <tr>\n",
       "      <th>0</th>\n",
       "      <td>False</td>\n",
       "      <td>False</td>\n",
       "      <td>False</td>\n",
       "      <td>False</td>\n",
       "      <td>False</td>\n",
       "    </tr>\n",
       "    <tr>\n",
       "      <th>1</th>\n",
       "      <td>False</td>\n",
       "      <td>False</td>\n",
       "      <td>False</td>\n",
       "      <td>False</td>\n",
       "      <td>False</td>\n",
       "    </tr>\n",
       "    <tr>\n",
       "      <th>2</th>\n",
       "      <td>False</td>\n",
       "      <td>False</td>\n",
       "      <td>True</td>\n",
       "      <td>False</td>\n",
       "      <td>False</td>\n",
       "    </tr>\n",
       "    <tr>\n",
       "      <th>3</th>\n",
       "      <td>False</td>\n",
       "      <td>False</td>\n",
       "      <td>False</td>\n",
       "      <td>False</td>\n",
       "      <td>False</td>\n",
       "    </tr>\n",
       "  </tbody>\n",
       "</table>\n",
       "</div>"
      ],
      "text/plain": [
       "       A      B      C      D      E\n",
       "0  False  False  False  False  False\n",
       "1  False  False  False  False  False\n",
       "2  False  False   True  False  False\n",
       "3  False  False  False  False  False"
      ]
     },
     "execution_count": 24,
     "metadata": {},
     "output_type": "execute_result"
    }
   ],
   "source": [
    "df2.iloc[2, 2] = np.nan  # Introduce a NaN value\n",
    "print(df2)\n",
    "df2.dropna(how='any')  # Drop any row with NaN\n",
    "df2.fillna(value=5)    # Fill NaN with a value\n",
    "pd.isna(df2)"
   ]
  },
  {
   "cell_type": "markdown",
   "id": "b2fcac1e",
   "metadata": {},
   "source": [
    "## Grouping\n",
    "Grouping involves one or more of the following steps: Splitting the data, applying a function, and combining the results."
   ]
  },
  {
   "cell_type": "code",
   "execution_count": 25,
   "id": "e64a70bf",
   "metadata": {},
   "outputs": [
    {
     "data": {
      "text/html": [
       "<div>\n",
       "<style scoped>\n",
       "    .dataframe tbody tr th:only-of-type {\n",
       "        vertical-align: middle;\n",
       "    }\n",
       "\n",
       "    .dataframe tbody tr th {\n",
       "        vertical-align: top;\n",
       "    }\n",
       "\n",
       "    .dataframe thead th {\n",
       "        text-align: right;\n",
       "    }\n",
       "</style>\n",
       "<table border=\"1\" class=\"dataframe\">\n",
       "  <thead>\n",
       "    <tr style=\"text-align: right;\">\n",
       "      <th></th>\n",
       "      <th>B</th>\n",
       "      <th>C</th>\n",
       "      <th>D</th>\n",
       "      <th>E</th>\n",
       "    </tr>\n",
       "    <tr>\n",
       "      <th>A</th>\n",
       "      <th></th>\n",
       "      <th></th>\n",
       "      <th></th>\n",
       "      <th></th>\n",
       "    </tr>\n",
       "  </thead>\n",
       "  <tbody>\n",
       "    <tr>\n",
       "      <th>1</th>\n",
       "      <td>5</td>\n",
       "      <td>9.0</td>\n",
       "      <td>13</td>\n",
       "      <td>6</td>\n",
       "    </tr>\n",
       "    <tr>\n",
       "      <th>2</th>\n",
       "      <td>6</td>\n",
       "      <td>10.0</td>\n",
       "      <td>14</td>\n",
       "      <td>8</td>\n",
       "    </tr>\n",
       "    <tr>\n",
       "      <th>3</th>\n",
       "      <td>7</td>\n",
       "      <td>0.0</td>\n",
       "      <td>15</td>\n",
       "      <td>10</td>\n",
       "    </tr>\n",
       "    <tr>\n",
       "      <th>4</th>\n",
       "      <td>8</td>\n",
       "      <td>12.0</td>\n",
       "      <td>16</td>\n",
       "      <td>12</td>\n",
       "    </tr>\n",
       "  </tbody>\n",
       "</table>\n",
       "</div>"
      ],
      "text/plain": [
       "   B     C   D   E\n",
       "A                 \n",
       "1  5   9.0  13   6\n",
       "2  6  10.0  14   8\n",
       "3  7   0.0  15  10\n",
       "4  8  12.0  16  12"
      ]
     },
     "execution_count": 25,
     "metadata": {},
     "output_type": "execute_result"
    }
   ],
   "source": [
    "df2.groupby('A').sum()"
   ]
  },
  {
   "cell_type": "markdown",
   "id": "873d49b4",
   "metadata": {},
   "source": [
    "### Group By: Split-Apply-Combine\n",
    "Advanced grouping operations to summarize data."
   ]
  },
  {
   "cell_type": "code",
   "execution_count": null,
   "id": "5c53c650",
   "metadata": {},
   "outputs": [
    {
     "data": {
      "text/html": [
       "<div>\n",
       "<style scoped>\n",
       "    .dataframe tbody tr th:only-of-type {\n",
       "        vertical-align: middle;\n",
       "    }\n",
       "\n",
       "    .dataframe tbody tr th {\n",
       "        vertical-align: top;\n",
       "    }\n",
       "\n",
       "    .dataframe thead tr th {\n",
       "        text-align: left;\n",
       "    }\n",
       "\n",
       "    .dataframe thead tr:last-of-type th {\n",
       "        text-align: right;\n",
       "    }\n",
       "</style>\n",
       "<table border=\"1\" class=\"dataframe\">\n",
       "  <thead>\n",
       "    <tr>\n",
       "      <th></th>\n",
       "      <th colspan=\"3\" halign=\"left\">A</th>\n",
       "      <th>B</th>\n",
       "      <th>C</th>\n",
       "    </tr>\n",
       "    <tr>\n",
       "      <th></th>\n",
       "      <th>mean</th>\n",
       "      <th>min</th>\n",
       "      <th>max</th>\n",
       "      <th>sum</th>\n",
       "      <th>count</th>\n",
       "    </tr>\n",
       "    <tr>\n",
       "      <th>F</th>\n",
       "      <th></th>\n",
       "      <th></th>\n",
       "      <th></th>\n",
       "      <th></th>\n",
       "      <th></th>\n",
       "    </tr>\n",
       "  </thead>\n",
       "  <tbody>\n",
       "    <tr>\n",
       "      <th>False</th>\n",
       "      <td>-0.819656</td>\n",
       "      <td>-1.830707</td>\n",
       "      <td>-0.277708</td>\n",
       "      <td>5.475151</td>\n",
       "      <td>8</td>\n",
       "    </tr>\n",
       "    <tr>\n",
       "      <th>True</th>\n",
       "      <td>0.954371</td>\n",
       "      <td>0.022371</td>\n",
       "      <td>2.637768</td>\n",
       "      <td>-4.011988</td>\n",
       "      <td>8</td>\n",
       "    </tr>\n",
       "  </tbody>\n",
       "</table>\n",
       "</div>"
      ],
      "text/plain": [
       "              A                             B     C\n",
       "           mean       min       max       sum count\n",
       "F                                                  \n",
       "False -0.819656 -1.830707 -0.277708  5.475151     8\n",
       "True   0.954371  0.022371  2.637768 -4.011988     8"
      ]
     },
     "metadata": {},
     "output_type": "display_data"
    }
   ],
   "source": [
    "df3.groupby('F').agg({'A': ['mean', 'min', 'max'], 'B': 'sum', 'C': 'count'})"
   ]
  },
  {
   "cell_type": "markdown",
   "id": "86e2f62b",
   "metadata": {},
   "source": [
    "## Advanced DataFrame Manipulation\n",
    "We will now look at more advanced data manipulations like indexing, selection, and extending the DataFrame with new data."
   ]
  },
  {
   "cell_type": "code",
   "execution_count": 27,
   "id": "983c532f",
   "metadata": {},
   "outputs": [],
   "source": [
    "df3 = pd.DataFrame(np.random.randn(16, 5), columns=list('ABCDE'))\n",
    "df3['F'] = df3['A'] > 0\n",
    "# Selecting data with a boolean criterion\n",
    "df_positive_A = df3[df3['A'] > 0]"
   ]
  },
  {
   "cell_type": "markdown",
   "id": "b09b058c",
   "metadata": {},
   "source": [
    "### MultiIndex and Advanced Indexing\n",
    "Pandas allows for more complex indexing with MultiIndex."
   ]
  },
  {
   "cell_type": "code",
   "execution_count": 23,
   "id": "3d38b7d8",
   "metadata": {},
   "outputs": [
    {
     "name": "stdout",
     "output_type": "stream",
     "text": [
      "                       A         B         C         D\n",
      "element number                                        \n",
      "earth   one     1.802362 -0.881364 -1.003541 -0.751498\n",
      "        two    -0.382917 -1.265484 -1.178762  0.289290\n",
      "fire    one    -0.027029 -0.185177  0.001865  1.227532\n",
      "        two     0.813335  0.471637  0.901304  0.802895\n",
      "               A         B         C         D\n",
      "number                                        \n",
      "one     1.802362 -0.881364 -1.003541 -0.751498\n",
      "two    -0.382917 -1.265484 -1.178762  0.289290\n"
     ]
    }
   ],
   "source": [
    "#2 vectors\n",
    "arrays = [np.array(['earth', 'earth', 'fire', 'fire']),\n",
    "         np.array(['one', 'two', 'one', 'two'])]\n",
    "\n",
    "#creating the pairs\n",
    "df_multi = pd.DataFrame(np.random.randn(4, 4), index=arrays, columns=['A', 'B', 'C', 'D'])\n",
    "\n",
    "#naming the multiIndex Levels\n",
    "df_multi.index.names = ['element', 'number']\n",
    "\n",
    "print(df_multi)\n",
    "print(df_multi.loc['earth'])"
   ]
  },
  {
   "cell_type": "markdown",
   "id": "70f616de",
   "metadata": {},
   "source": [
    "To access all values from the 'fire' index level in the 'B' column"
   ]
  },
  {
   "cell_type": "code",
   "execution_count": 24,
   "id": "fcd898c1",
   "metadata": {},
   "outputs": [
    {
     "name": "stdout",
     "output_type": "stream",
     "text": [
      "number\n",
      "one   -0.185177\n",
      "two    0.471637\n",
      "Name: B, dtype: float64\n"
     ]
    }
   ],
   "source": [
    "fire_b_values = df_multi.loc['fire', 'B']\n",
    "\n",
    "print(fire_b_values)"
   ]
  },
  {
   "cell_type": "markdown",
   "id": "fa5996bd",
   "metadata": {},
   "source": [
    "### Pivot Tables\n",
    "Creating pivot tables for data summarization. (means by default, for each combinaisons of rows / columns)"
   ]
  },
  {
   "cell_type": "code",
   "execution_count": 39,
   "id": "ad2dc052",
   "metadata": {},
   "outputs": [
    {
     "data": {
      "text/html": [
       "<div>\n",
       "<style scoped>\n",
       "    .dataframe tbody tr th:only-of-type {\n",
       "        vertical-align: middle;\n",
       "    }\n",
       "\n",
       "    .dataframe tbody tr th {\n",
       "        vertical-align: top;\n",
       "    }\n",
       "\n",
       "    .dataframe thead th {\n",
       "        text-align: right;\n",
       "    }\n",
       "</style>\n",
       "<table border=\"1\" class=\"dataframe\">\n",
       "  <thead>\n",
       "    <tr style=\"text-align: right;\">\n",
       "      <th></th>\n",
       "      <th>C</th>\n",
       "      <th>sea</th>\n",
       "      <th>sky</th>\n",
       "    </tr>\n",
       "    <tr>\n",
       "      <th>A</th>\n",
       "      <th>B</th>\n",
       "      <th></th>\n",
       "      <th></th>\n",
       "    </tr>\n",
       "  </thead>\n",
       "  <tbody>\n",
       "    <tr>\n",
       "      <th rowspan=\"3\" valign=\"top\">one</th>\n",
       "      <th>A</th>\n",
       "      <td>-0.327817</td>\n",
       "      <td>0.406799</td>\n",
       "    </tr>\n",
       "    <tr>\n",
       "      <th>B</th>\n",
       "      <td>0.859431</td>\n",
       "      <td>0.598356</td>\n",
       "    </tr>\n",
       "    <tr>\n",
       "      <th>C</th>\n",
       "      <td>1.663204</td>\n",
       "      <td>2.425405</td>\n",
       "    </tr>\n",
       "    <tr>\n",
       "      <th rowspan=\"3\" valign=\"top\">three</th>\n",
       "      <th>A</th>\n",
       "      <td>-2.881333</td>\n",
       "      <td>NaN</td>\n",
       "    </tr>\n",
       "    <tr>\n",
       "      <th>B</th>\n",
       "      <td>NaN</td>\n",
       "      <td>-1.104567</td>\n",
       "    </tr>\n",
       "    <tr>\n",
       "      <th>C</th>\n",
       "      <td>-1.135694</td>\n",
       "      <td>NaN</td>\n",
       "    </tr>\n",
       "    <tr>\n",
       "      <th rowspan=\"3\" valign=\"top\">two</th>\n",
       "      <th>A</th>\n",
       "      <td>NaN</td>\n",
       "      <td>-0.278169</td>\n",
       "    </tr>\n",
       "    <tr>\n",
       "      <th>B</th>\n",
       "      <td>0.374311</td>\n",
       "      <td>NaN</td>\n",
       "    </tr>\n",
       "    <tr>\n",
       "      <th>C</th>\n",
       "      <td>NaN</td>\n",
       "      <td>0.486610</td>\n",
       "    </tr>\n",
       "  </tbody>\n",
       "</table>\n",
       "</div>"
      ],
      "text/plain": [
       "C             sea       sky\n",
       "A     B                    \n",
       "one   A -0.327817  0.406799\n",
       "      B  0.859431  0.598356\n",
       "      C  1.663204  2.425405\n",
       "three A -2.881333       NaN\n",
       "      B       NaN -1.104567\n",
       "      C -1.135694       NaN\n",
       "two   A       NaN -0.278169\n",
       "      B  0.374311       NaN\n",
       "      C       NaN  0.486610"
      ]
     },
     "execution_count": 39,
     "metadata": {},
     "output_type": "execute_result"
    }
   ],
   "source": [
    "df_pivot = pd.DataFrame({'A': ['one', 'one', 'two', 'three'] * 3,\n",
    "                   'B': ['A', 'B', 'C'] * 4,\n",
    "                   'C': ['sky', 'sky', 'sky', 'sea', 'sea', 'sea'] * 2,\n",
    "                   'D': np.random.randn(12),\n",
    "                   'E': np.random.randn(12)})\n",
    "pd.pivot_table(df_pivot, values='D', index=['A', 'B'], columns=['C'])"
   ]
  },
  {
   "cell_type": "markdown",
   "id": "99f5f63d",
   "metadata": {},
   "source": [
    "## Time Series\n",
    "Pandas has simple, powerful, and efficient functions for performing operations like resampling during frequency conversion (e.g., converting secondly data into 5-minute data)."
   ]
  },
  {
   "cell_type": "code",
   "execution_count": 4,
   "id": "eecdd005",
   "metadata": {},
   "outputs": [
    {
     "name": "stderr",
     "output_type": "stream",
     "text": [
      "C:\\Users\\abdou\\AppData\\Local\\Temp\\ipykernel_28820\\4221664191.py:6: FutureWarning: 'M' is deprecated and will be removed in a future version, please use 'ME' instead.\n",
      "  ts.asfreq(freq='M', method='bfill')\n"
     ]
    },
    {
     "data": {
      "text/plain": [
       "<Axes: >"
      ]
     },
     "execution_count": 4,
     "metadata": {},
     "output_type": "execute_result"
    },
    {
     "data": {
      "image/png": "[encoded data removed]",
      "text/plain": [
       "<Figure size 640x480 with 1 Axes>"
      ]
     },
     "metadata": {},
     "output_type": "display_data"
    }
   ],
   "source": [
    "# Creating a time series with a DateTime index\n",
    "rng = pd.date_range('20230101', periods=100, freq='D')\n",
    "ts = pd.Series(np.random.randn(len(rng)), index=rng)\n",
    "\n",
    "# Changing the frequency of the time series\n",
    "ts.asfreq(freq='M', method='bfill')\n",
    "\n",
    "# Plotting the time series\n",
    "ts.plot()"
   ]
  },
  {
   "cell_type": "markdown",
   "id": "57ccb7cc",
   "metadata": {},
   "source": [
    "## Categorical Data\n",
    "Pandas can include categorical data in a DataFrame, which can lead to more efficient storage and better performance for certain operations."
   ]
  },
  {
   "cell_type": "code",
   "execution_count": 21,
   "id": "4cb830ca",
   "metadata": {},
   "outputs": [
    {
     "name": "stdout",
     "output_type": "stream",
     "text": [
      "grade\n",
      "very bad     0\n",
      "bad          0\n",
      "medium       0\n",
      "good         0\n",
      "very good    0\n",
      "dtype: int64\n"
     ]
    },
    {
     "name": "stderr",
     "output_type": "stream",
     "text": [
      "C:\\Users\\abdou\\AppData\\Local\\Temp\\ipykernel_28820\\2765931533.py:10: FutureWarning: The default of observed=False is deprecated and will be changed to True in a future version of pandas. Pass observed=False to retain current behavior or observed=True to adopt the future default and silence this warning.\n",
      "  group_sizes = df_cat.groupby('grade').size()\n"
     ]
    }
   ],
   "source": [
    "# Create the initial DataFrame\n",
    "df_cat = pd.DataFrame({'id': range(1, 6),\n",
    "                       'raw_grade': ['a', 'b', 'c', 'a', 'e']})\n",
    "\n",
    "# Convert 'raw_grade' to a categorical type with the specified categories\n",
    "categories = ['very bad', 'bad', 'medium', 'good', 'very good']\n",
    "df_cat['grade'] = pd.Categorical(df_cat['raw_grade'], categories=categories, ordered=True)\n",
    "\n",
    "# Compute group sizes\n",
    "group_sizes = df_cat.groupby('grade').size()\n",
    "\n",
    "# Reindex the group sizes to include all categories, filling missing values with 0\n",
    "group_sizes = group_sizes.reindex(categories, fill_value=0)\n",
    "\n",
    "# Print the group sizes\n",
    "print(group_sizes)\n"
   ]
  },
  {
   "cell_type": "code",
   "execution_count": 23,
   "id": "c6a47fab",
   "metadata": {},
   "outputs": [
    {
     "name": "stdout",
     "output_type": "stream",
     "text": [
      "grade\n",
      "very good    22\n",
      "good         14\n",
      "medium       18\n",
      "bad          15\n",
      "very bad     19\n",
      "fail         12\n",
      "dtype: int64\n"
     ]
    },
    {
     "name": "stderr",
     "output_type": "stream",
     "text": [
      "C:\\Users\\abdou\\AppData\\Local\\Temp\\ipykernel_28820\\4223968298.py:16: FutureWarning: The default of observed=False is deprecated and will be changed to True in a future version of pandas. Pass observed=False to retain current behavior or observed=True to adopt the future default and silence this warning.\n",
      "  group_sizes = df_cat.groupby('grade').size()\n"
     ]
    }
   ],
   "source": [
    "# Create a larger DataFrame\n",
    "df_cat = pd.DataFrame({\n",
    "    'id': range(1, 101),  # Increase the range for a larger DataFrame\n",
    "    'raw_grade': np.random.choice(['a', 'b', 'c', 'd', 'e', 'f'], size=100)  # Use numpy to randomly choose letters\n",
    "})\n",
    "\n",
    "# Map the randomly chosen letters to more descriptive categories\n",
    "grade_mapping = {'a': 'very good', 'b': 'good', 'c': 'medium', 'd': 'bad', 'e': 'very bad', 'f': 'fail'}\n",
    "\n",
    "# Convert 'raw_grade' to more descriptive categories and then to a categorical type\n",
    "df_cat['grade'] = df_cat['raw_grade'].map(grade_mapping)\n",
    "categories = ['very good', 'good', 'medium', 'bad', 'very bad', 'fail']\n",
    "df_cat['grade'] = pd.Categorical(df_cat['grade'], categories=categories, ordered=True)\n",
    "\n",
    "# Compute group sizes\n",
    "group_sizes = df_cat.groupby('grade').size()\n",
    "\n",
    "# Reindex the group sizes to include all categories, filling missing values with 0\n",
    "group_sizes = group_sizes.reindex(categories, fill_value=0)\n",
    "\n",
    "# Print the group sizes\n",
    "print(group_sizes)\n"
   ]
  },
  {
   "cell_type": "code",
   "execution_count": 19,
   "metadata": {},
   "outputs": [
    {
     "name": "stderr",
     "output_type": "stream",
     "text": [
      "C:\\Users\\abdou\\AppData\\Local\\Temp\\ipykernel_28820\\866965226.py:15: FutureWarning: The default of observed=False is deprecated and will be changed to True in a future version of pandas. Pass observed=False to retain current behavior or observed=True to adopt the future default and silence this warning.\n",
      "  df_cat.groupby('grade').size()\n"
     ]
    },
    {
     "data": {
      "text/plain": [
       "grade\n",
       "very bad     0\n",
       "bad          0\n",
       "medium       0\n",
       "good         0\n",
       "very good    0\n",
       "dtype: int64"
      ]
     },
     "execution_count": 19,
     "metadata": {},
     "output_type": "execute_result"
    }
   ],
   "source": [
    "df_cat = pd.DataFrame({'id': range(1, 6),\n",
    "                       'raw_grade': ['a', 'b', 'c', 'a', 'e']})\n",
    "\n",
    "df_cat['grade'] = df_cat['raw_grade'].astype('category')\n",
    "\n",
    "\n",
    "# set new categories\n",
    "df_cat['grade'] = df_cat['grade'].cat.set_categories(['very bad', 'bad', 'medium', 'good', 'very good'])\n",
    "\n",
    "df_cat.sort_values(by='grade')\n",
    "\n",
    "# Proceed with the grouping and size calculation\n",
    "df_cat.groupby('grade').size()\n"
   ]
  },
  {
   "cell_type": "markdown",
   "id": "77c74e6c",
   "metadata": {},
   "source": [
    "## Merging and Joining\n",
    "Pandas provides various ways to combine DataFrames including merge and join operations similar to what is found in SQL."
   ]
  },
  {
   "cell_type": "code",
   "execution_count": 40,
   "id": "1b68a411",
   "metadata": {},
   "outputs": [
    {
     "name": "stdout",
     "output_type": "stream",
     "text": [
      "  key   A   B\n",
      "0  K0  A0  B0\n",
      "1  K1  A1  B1\n",
      "2  K2  A2  B2\n",
      "3  K3  A3  B3\n",
      "  key   C   D\n",
      "0  K0  C0  D0\n",
      "1  K1  C1  D1\n",
      "2  K2  C2  D2\n",
      "3  K3  C3  D3\n"
     ]
    }
   ],
   "source": [
    "# Merging two DataFrames\n",
    "df_left = pd.DataFrame({'key': ['K0', 'K1', 'K2', 'K3'],\n",
    "                        'A': ['A0', 'A1', 'A2', 'A3'],\n",
    "                        'B': ['B0', 'B1', 'B2', 'B3']})\n",
    "df_right = pd.DataFrame({'key': ['K0', 'K1', 'K2', 'K3'],\n",
    "                         'C': ['C0', 'C1', 'C2', 'C3'],\n",
    "                         'D': ['D0', 'D1', 'D2', 'D3']})\n",
    "print(df_left)\n",
    "print(df_right)"
   ]
  },
  {
   "cell_type": "code",
   "execution_count": 41,
   "id": "85da2b49",
   "metadata": {},
   "outputs": [
    {
     "name": "stdout",
     "output_type": "stream",
     "text": [
      "Inner Merge Result:\n",
      "  key   A   B   C   D\n",
      "0  K0  A0  B0  C0  D0\n",
      "1  K1  A1  B1  C1  D1\n",
      "2  K2  A2  B2  C2  D2\n",
      "3  K3  A3  B3  C3  D3\n"
     ]
    }
   ],
   "source": [
    "# Inner Merge\n",
    "# An inner merge returns only the rows that have matching keys in both DataFrames.\n",
    "inner_merge_result = pd.merge(df_left, df_right, on='key')\n",
    "print(\"Inner Merge Result:\")\n",
    "print(inner_merge_result)"
   ]
  },
  {
   "cell_type": "code",
   "execution_count": 42,
   "id": "a91b7b44",
   "metadata": {},
   "outputs": [
    {
     "name": "stdout",
     "output_type": "stream",
     "text": [
      "\n",
      "Left Merge Result:\n",
      "  key   A   B   C   D\n",
      "0  K0  A0  B0  C0  D0\n",
      "1  K1  A1  B1  C1  D1\n",
      "2  K2  A2  B2  C2  D2\n",
      "3  K3  A3  B3  C3  D3\n"
     ]
    }
   ],
   "source": [
    "# Left Merge\n",
    "# A left merge returns all the rows from the left DataFrame (`df_left`), and the matched rows from the right DataFrame (`df_right`).\n",
    "# If there is no match, it fills the missing values with NaN.\n",
    "left_merge_result = pd.merge(df_left, df_right, on='key', how='left')\n",
    "print(\"\\nLeft Merge Result:\")\n",
    "print(left_merge_result)"
   ]
  },
  {
   "cell_type": "code",
   "execution_count": 43,
   "id": "a512a60a",
   "metadata": {},
   "outputs": [
    {
     "name": "stdout",
     "output_type": "stream",
     "text": [
      "\n",
      "Right Merge Result:\n",
      "  key   A   B   C   D\n",
      "0  K0  A0  B0  C0  D0\n",
      "1  K1  A1  B1  C1  D1\n",
      "2  K2  A2  B2  C2  D2\n",
      "3  K3  A3  B3  C3  D3\n"
     ]
    }
   ],
   "source": [
    "# Right Merge\n",
    "# A right merge returns all the rows from the right DataFrame (`df_right`), and the matched rows from the left DataFrame (`df_left`).\n",
    "# If there is no match, it fills the missing values with NaN.\n",
    "right_merge_result = pd.merge(df_left, df_right, on='key', how='right')\n",
    "print(\"\\nRight Merge Result:\")\n",
    "print(right_merge_result)"
   ]
  },
  {
   "cell_type": "code",
   "execution_count": 44,
   "id": "4b3fbe43",
   "metadata": {},
   "outputs": [
    {
     "name": "stdout",
     "output_type": "stream",
     "text": [
      "\n",
      "Outer Merge Result:\n",
      "  key   A   B   C   D\n",
      "0  K0  A0  B0  C0  D0\n",
      "1  K1  A1  B1  C1  D1\n",
      "2  K2  A2  B2  C2  D2\n",
      "3  K3  A3  B3  C3  D3\n"
     ]
    }
   ],
   "source": [
    "# Outer Merge\n",
    "# An outer merge returns all the rows from both DataFrames, with NaN for missing values where there is no match.\n",
    "outer_merge_result = pd.merge(df_left, df_right, on='key', how='outer')\n",
    "print(\"\\nOuter Merge Result:\")\n",
    "print(outer_merge_result)"
   ]
  },
  {
   "cell_type": "code",
   "execution_count": 45,
   "id": "7218fb69",
   "metadata": {},
   "outputs": [
    {
     "name": "stdout",
     "output_type": "stream",
     "text": [
      "\n",
      "Left Join Result:\n",
      "  key   A   B   C   D\n",
      "0  K0  A0  B0  C0  D0\n",
      "1  K1  A1  B1  C1  D1\n",
      "2  K2  A2  B2  C2  D2\n",
      "3  K3  A3  B3  C3  D3\n"
     ]
    }
   ],
   "source": [
    "# Left Join\n",
    "# A left join returns all the rows from the left DataFrame (`df_left`), and the matched rows from the right DataFrame (`df_right`).\n",
    "# It is similar to a left merge but operates on index labels.\n",
    "left_join_result = df_left.join(df_right.set_index('key'), on='key', how='left')\n",
    "print(\"\\nLeft Join Result:\")\n",
    "print(left_join_result)"
   ]
  },
  {
   "cell_type": "code",
   "execution_count": 46,
   "id": "b90aebca",
   "metadata": {},
   "outputs": [
    {
     "name": "stdout",
     "output_type": "stream",
     "text": [
      "\n",
      "Right Join Result:\n",
      "  key   C   D   A   B\n",
      "0  K0  C0  D0  A0  B0\n",
      "1  K1  C1  D1  A1  B1\n",
      "2  K2  C2  D2  A2  B2\n",
      "3  K3  C3  D3  A3  B3\n"
     ]
    }
   ],
   "source": [
    "# Right Join\n",
    "# A right join returns all the rows from the right DataFrame (`df_right`), and the matched rows from the left DataFrame (`df_left`).\n",
    "# It is similar to a right merge but operates on index labels.\n",
    "right_join_result = df_right.join(df_left.set_index('key'), on='key', how='right')\n",
    "print(\"\\nRight Join Result:\")\n",
    "print(right_join_result)"
   ]
  },
  {
   "cell_type": "code",
   "execution_count": 47,
   "id": "650b7ec5",
   "metadata": {},
   "outputs": [
    {
     "name": "stdout",
     "output_type": "stream",
     "text": [
      "\n",
      "Inner Join Result:\n",
      "  key   A   B   C   D\n",
      "0  K0  A0  B0  C0  D0\n",
      "1  K1  A1  B1  C1  D1\n",
      "2  K2  A2  B2  C2  D2\n",
      "3  K3  A3  B3  C3  D3\n"
     ]
    }
   ],
   "source": [
    "# Inner Join\n",
    "# An inner join returns only the rows that have matching index labels in both DataFrames.\n",
    "inner_join_result = df_left.join(df_right.set_index('key'), on='key', how='inner')\n",
    "print(\"\\nInner Join Result:\")\n",
    "print(inner_join_result)"
   ]
  },
  {
   "cell_type": "code",
   "execution_count": 48,
   "id": "8b25c298",
   "metadata": {},
   "outputs": [
    {
     "name": "stdout",
     "output_type": "stream",
     "text": [
      "\n",
      "Outer Join Result:\n",
      "  key   A   B   C   D\n",
      "0  K0  A0  B0  C0  D0\n",
      "1  K1  A1  B1  C1  D1\n",
      "2  K2  A2  B2  C2  D2\n",
      "3  K3  A3  B3  C3  D3\n"
     ]
    }
   ],
   "source": [
    "# Outer Join\n",
    "# An outer join returns all the rows from both DataFrames, with NaN for missing values where there is no match.\n",
    "# It is similar to an outer merge but operates on index labels.\n",
    "outer_join_result = df_left.join(df_right.set_index('key'), on='key', how='outer')\n",
    "print(\"\\nOuter Join Result:\")\n",
    "print(outer_join_result)"
   ]
  },
  {
   "cell_type": "markdown",
   "id": "a3cc1e0c",
   "metadata": {},
   "source": [
    "## Reshaping\n",
    "Stacking and pivoting DataFrames are common methods used to reshape data for analysis."
   ]
  },
  {
   "cell_type": "code",
   "execution_count": 49,
   "id": "4231dfa0",
   "metadata": {},
   "outputs": [
    {
     "data": {
      "text/html": [
       "<div>\n",
       "<style scoped>\n",
       "    .dataframe tbody tr th:only-of-type {\n",
       "        vertical-align: middle;\n",
       "    }\n",
       "\n",
       "    .dataframe tbody tr th {\n",
       "        vertical-align: top;\n",
       "    }\n",
       "\n",
       "    .dataframe thead th {\n",
       "        text-align: right;\n",
       "    }\n",
       "</style>\n",
       "<table border=\"1\" class=\"dataframe\">\n",
       "  <thead>\n",
       "    <tr style=\"text-align: right;\">\n",
       "      <th></th>\n",
       "      <th>A</th>\n",
       "      <th>B</th>\n",
       "    </tr>\n",
       "  </thead>\n",
       "  <tbody>\n",
       "    <tr>\n",
       "      <th>2020-01-01</th>\n",
       "      <td>-1.595605</td>\n",
       "      <td>-0.876573</td>\n",
       "    </tr>\n",
       "    <tr>\n",
       "      <th>2020-01-02</th>\n",
       "      <td>2.084272</td>\n",
       "      <td>0.385326</td>\n",
       "    </tr>\n",
       "    <tr>\n",
       "      <th>2020-01-03</th>\n",
       "      <td>0.684346</td>\n",
       "      <td>0.771169</td>\n",
       "    </tr>\n",
       "    <tr>\n",
       "      <th>2020-01-04</th>\n",
       "      <td>1.440774</td>\n",
       "      <td>1.238793</td>\n",
       "    </tr>\n",
       "    <tr>\n",
       "      <th>2020-01-05</th>\n",
       "      <td>0.188529</td>\n",
       "      <td>0.342120</td>\n",
       "    </tr>\n",
       "    <tr>\n",
       "      <th>2020-01-06</th>\n",
       "      <td>-0.694351</td>\n",
       "      <td>-0.057646</td>\n",
       "    </tr>\n",
       "    <tr>\n",
       "      <th>2020-01-07</th>\n",
       "      <td>0.340423</td>\n",
       "      <td>2.037805</td>\n",
       "    </tr>\n",
       "    <tr>\n",
       "      <th>2020-01-08</th>\n",
       "      <td>0.343825</td>\n",
       "      <td>-0.875576</td>\n",
       "    </tr>\n",
       "  </tbody>\n",
       "</table>\n",
       "</div>"
      ],
      "text/plain": [
       "                   A         B\n",
       "2020-01-01 -1.595605 -0.876573\n",
       "2020-01-02  2.084272  0.385326\n",
       "2020-01-03  0.684346  0.771169\n",
       "2020-01-04  1.440774  1.238793\n",
       "2020-01-05  0.188529  0.342120\n",
       "2020-01-06 -0.694351 -0.057646\n",
       "2020-01-07  0.340423  2.037805\n",
       "2020-01-08  0.343825 -0.875576"
      ]
     },
     "execution_count": 49,
     "metadata": {},
     "output_type": "execute_result"
    }
   ],
   "source": [
    "#Stacking and Unstacking:\n",
    "#stack(): This method \"stacks\" the DataFrame columns into a single column, producing a Series.\n",
    "#unstack(): This method does the opposite of stack; it \"unstacks\" the specified level of the index, producing a DataFrame.\n",
    "df4 = pd.DataFrame(np.random.randn(8, 2), index=pd.date_range('1/1/2020', periods=8), columns=['A', 'B'])\n",
    "df_stacked = df4.stack()\n",
    "df_stacked.unstack()"
   ]
  },
  {
   "cell_type": "code",
   "execution_count": 50,
   "id": "07feaf32",
   "metadata": {},
   "outputs": [
    {
     "name": "stdout",
     "output_type": "stream",
     "text": [
      "Melted DataFrame:\n",
      "         Date Variable     Value\n",
      "0  2020-01-01        A  1.543573\n",
      "1  2020-01-02        A -0.905612\n",
      "2  2020-01-03        A -0.542369\n",
      "3  2020-01-04        A -0.145062\n",
      "4  2020-01-05        A -0.070255\n",
      "5  2020-01-06        A  1.272391\n",
      "6  2020-01-07        A  0.246667\n",
      "7  2020-01-08        A -0.656781\n",
      "8  2020-01-01        B  0.836217\n",
      "9  2020-01-02        B  0.358399\n",
      "10 2020-01-03        B -0.800496\n",
      "11 2020-01-04        B -1.065624\n",
      "12 2020-01-05        B  0.334438\n",
      "13 2020-01-06        B  0.981275\n",
      "14 2020-01-07        B -0.594150\n",
      "15 2020-01-08        B -0.995085\n"
     ]
    }
   ],
   "source": [
    "#melt(): This method \"melts\" a DataFrame from wide format to long format, unpivoting the data.\n",
    "df4 = pd.DataFrame(np.random.randn(8, 2), index=pd.date_range('1/1/2020', periods=8), columns=['A', 'B'])\n",
    "\n",
    "# Melting the DataFrame\n",
    "melted_df = pd.melt(df4.reset_index(), id_vars=['index'], value_vars=['A', 'B'])\n",
    "\n",
    "# Renaming the columns\n",
    "melted_df.columns = ['Date', 'Variable', 'Value']\n",
    "\n",
    "# Display the melted DataFrame\n",
    "print(\"Melted DataFrame:\")\n",
    "print(melted_df)"
   ]
  },
  {
   "cell_type": "markdown",
   "id": "0f912aaf",
   "metadata": {},
   "source": [
    "## Working with Text Data\n",
    "Pandas provides a range of methods to work efficiently with text data."
   ]
  },
  {
   "cell_type": "code",
   "execution_count": 51,
   "id": "18d8ba56",
   "metadata": {},
   "outputs": [
    {
     "data": {
      "text/html": [
       "<div>\n",
       "<style scoped>\n",
       "    .dataframe tbody tr th:only-of-type {\n",
       "        vertical-align: middle;\n",
       "    }\n",
       "\n",
       "    .dataframe tbody tr th {\n",
       "        vertical-align: top;\n",
       "    }\n",
       "\n",
       "    .dataframe thead th {\n",
       "        text-align: right;\n",
       "    }\n",
       "</style>\n",
       "<table border=\"1\" class=\"dataframe\">\n",
       "  <thead>\n",
       "    <tr style=\"text-align: right;\">\n",
       "      <th></th>\n",
       "      <th>Original Text</th>\n",
       "      <th>Lowercase Text</th>\n",
       "      <th>Contains \"app\"</th>\n",
       "      <th>Split Text</th>\n",
       "      <th>Concatenated Text</th>\n",
       "      <th>Sliced Text</th>\n",
       "      <th>Replaced Text</th>\n",
       "      <th>Extracted Numbers</th>\n",
       "      <th>Padded Text</th>\n",
       "    </tr>\n",
       "  </thead>\n",
       "  <tbody>\n",
       "    <tr>\n",
       "      <th>0</th>\n",
       "      <td>apple123</td>\n",
       "      <td>apple123</td>\n",
       "      <td>True</td>\n",
       "      <td>[, a, p, p, l, e, 1, 2, 3, ]</td>\n",
       "      <td>apple1231</td>\n",
       "      <td>app</td>\n",
       "      <td>grape123</td>\n",
       "      <td>123</td>\n",
       "      <td>0000000apple123</td>\n",
       "    </tr>\n",
       "    <tr>\n",
       "      <th>1</th>\n",
       "      <td>banana456</td>\n",
       "      <td>banana456</td>\n",
       "      <td>False</td>\n",
       "      <td>[, b, a, n, a, n, a, 4, 5, 6, ]</td>\n",
       "      <td>banana4562</td>\n",
       "      <td>ban</td>\n",
       "      <td>banana456</td>\n",
       "      <td>456</td>\n",
       "      <td>000000banana456</td>\n",
       "    </tr>\n",
       "    <tr>\n",
       "      <th>2</th>\n",
       "      <td>orange789</td>\n",
       "      <td>orange789</td>\n",
       "      <td>False</td>\n",
       "      <td>[, o, r, a, n, g, e, 7, 8, 9, ]</td>\n",
       "      <td>orange7893</td>\n",
       "      <td>ora</td>\n",
       "      <td>orange789</td>\n",
       "      <td>789</td>\n",
       "      <td>000000orange789</td>\n",
       "    </tr>\n",
       "    <tr>\n",
       "      <th>3</th>\n",
       "      <td>grape101112</td>\n",
       "      <td>grape101112</td>\n",
       "      <td>False</td>\n",
       "      <td>[, g, r, a, p, e, 1, 0, 1, 1, 1, 2, ]</td>\n",
       "      <td>grape1011124</td>\n",
       "      <td>gra</td>\n",
       "      <td>grape101112</td>\n",
       "      <td>101112</td>\n",
       "      <td>0000grape101112</td>\n",
       "    </tr>\n",
       "    <tr>\n",
       "      <th>4</th>\n",
       "      <td>pineapple131415</td>\n",
       "      <td>pineapple131415</td>\n",
       "      <td>True</td>\n",
       "      <td>[, p, i, n, e, a, p, p, l, e, 1, 3, 1, 4, 1, 5, ]</td>\n",
       "      <td>pineapple1314155</td>\n",
       "      <td>pin</td>\n",
       "      <td>pinegrape131415</td>\n",
       "      <td>131415</td>\n",
       "      <td>pineapple131415</td>\n",
       "    </tr>\n",
       "  </tbody>\n",
       "</table>\n",
       "</div>"
      ],
      "text/plain": [
       "     Original Text   Lowercase Text  Contains \"app\"  \\\n",
       "0         apple123         apple123            True   \n",
       "1        banana456        banana456           False   \n",
       "2        orange789        orange789           False   \n",
       "3      grape101112      grape101112           False   \n",
       "4  pineapple131415  pineapple131415            True   \n",
       "\n",
       "                                          Split Text Concatenated Text  \\\n",
       "0                       [, a, p, p, l, e, 1, 2, 3, ]         apple1231   \n",
       "1                    [, b, a, n, a, n, a, 4, 5, 6, ]        banana4562   \n",
       "2                    [, o, r, a, n, g, e, 7, 8, 9, ]        orange7893   \n",
       "3              [, g, r, a, p, e, 1, 0, 1, 1, 1, 2, ]      grape1011124   \n",
       "4  [, p, i, n, e, a, p, p, l, e, 1, 3, 1, 4, 1, 5, ]  pineapple1314155   \n",
       "\n",
       "  Sliced Text    Replaced Text Extracted Numbers      Padded Text  \n",
       "0         app         grape123               123  0000000apple123  \n",
       "1         ban        banana456               456  000000banana456  \n",
       "2         ora        orange789               789  000000orange789  \n",
       "3         gra      grape101112            101112  0000grape101112  \n",
       "4         pin  pinegrape131415            131415  pineapple131415  "
      ]
     },
     "execution_count": 51,
     "metadata": {},
     "output_type": "execute_result"
    }
   ],
   "source": [
    "import pandas as pd\n",
    "\n",
    "# Sample DataFrame\n",
    "data = {'text_column': ['apple123', 'banana456', 'orange789', 'grape101112', 'pineapple131415'],\n",
    "        'numeric_column': [1, 2, 3, 4, 5]}\n",
    "df = pd.DataFrame(data)\n",
    "\n",
    "# 1. String Methods\n",
    "# Pandas Series objects have a set of string processing methods under the .str accessor, allowing you to apply string operations element-wise.\n",
    "# Convert strings to lowercase\n",
    "lowercase_text = df['text_column'].str.lower()\n",
    "# Check if strings contain a pattern\n",
    "contains_pattern = df['text_column'].str.contains('app')\n",
    "# Split strings into lists\n",
    "split_strings = df['text_column'].str.split('')\n",
    "\n",
    "# 2. String Concatenation\n",
    "# You can concatenate strings in Pandas using the + operator or the .str.cat() method.\n",
    "# Concatenate strings\n",
    "concatenated_strings = df['text_column'] + df['numeric_column'].astype(str)\n",
    "\n",
    "# 3. String Slicing\n",
    "# Use slicing with .str accessor to extract substrings.\n",
    "# Extract first 3 characters\n",
    "sliced_text = df['text_column'].str[:3]\n",
    "\n",
    "# 4. String Replacement\n",
    "# Replace substrings in Pandas Series using the .str.replace() method.\n",
    "# Replace 'apple' with 'grape'\n",
    "replaced_text = df['text_column'].str.replace('apple', 'grape')\n",
    "\n",
    "# 5. String Extraction\n",
    "# Extract substrings using regular expressions with the .str.extract() method.\n",
    "# Extract numbers from text\n",
    "extracted_numbers = df['text_column'].str.extract(r'(\\d+)')\n",
    "# Fill missing values with None\n",
    "extracted_numbers = extracted_numbers.fillna('')\n",
    "\n",
    "# 6. String Padding\n",
    "# Pad strings with leading or trailing characters using .str.pad().\n",
    "# Pad strings with leading zeros\n",
    "padded_strings = df['text_column'].str.pad(width=15, side='left', fillchar='0')\n",
    "\n",
    "\n",
    "# Displaying Results\n",
    "result_df = pd.DataFrame({\n",
    "    'Original Text': df['text_column'].values,\n",
    "    'Lowercase Text': lowercase_text.values,\n",
    "    'Contains \"app\"': contains_pattern.values,\n",
    "    'Split Text': split_strings.values,\n",
    "    'Concatenated Text': concatenated_strings.values,\n",
    "    'Sliced Text': sliced_text.values,\n",
    "    'Replaced Text': replaced_text.values,\n",
    "    'Extracted Numbers': extracted_numbers.values.flatten(),  # Convert to 1D array\n",
    "    'Padded Text': padded_strings.values\n",
    "})\n",
    "\n",
    "result_df\n"
   ]
  },
  {
   "cell_type": "markdown",
   "id": "f81c34b8",
   "metadata": {},
   "source": [
    "## Visualization with Pandas\n",
    "Pandas comes bundled with basic plotting capabilities that use matplotlib under the hood."
   ]
  },
  {
   "cell_type": "code",
   "execution_count": 56,
   "id": "9a8b26a9",
   "metadata": {},
   "outputs": [
    {
     "data": {
      "image/png": "[encoded data removed]",
      "text/plain": [
       "<Figure size 640x480 with 1 Axes>"
      ]
     },
     "metadata": {},
     "output_type": "display_data"
    },
    {
     "data": {
      "image/png": "[encoded data removed]",
      "text/plain": [
       "<Figure size 640x480 with 1 Axes>"
      ]
     },
     "metadata": {},
     "output_type": "display_data"
    },
    {
     "data": {
      "image/png": "[encoded data removed]",
      "text/plain": [
       "<Figure size 640x480 with 1 Axes>"
      ]
     },
     "metadata": {},
     "output_type": "display_data"
    },
    {
     "data": {
      "image/png": "[encoded data removed]",
      "text/plain": [
       "<Figure size 640x480 with 1 Axes>"
      ]
     },
     "metadata": {},
     "output_type": "display_data"
    }
   ],
   "source": [
    "import matplotlib.pyplot as plt\n",
    "\n",
    "# Sample DataFrame\n",
    "data = {'x_column': [1, 2, 3, 4, 5],\n",
    "        'y_column': [2, 4, 6, 8, 10],\n",
    "        'category_column': ['A', 'B', 'C', 'D', 'E'],\n",
    "        'value_column': [10, 20, 30, 40, 50],\n",
    "        'numeric_column': [3, 5, 5, 7, 8]}\n",
    "df = pd.DataFrame(data)\n",
    "\n",
    "# Line Plot\n",
    "\n",
    "\n",
    "df.plot(x='x_column', y='y_column', kind='line')\n",
    "plt.title('Line Plot')\n",
    "plt.xlabel('X Axis')\n",
    "plt.ylabel('Y Axis')\n",
    "\n",
    "# Bar Plot\n",
    "plt.plot()\n",
    "df.plot(x='category_column', y='value_column', kind='bar')\n",
    "plt.title('Bar Plot')\n",
    "plt.xlabel('Categories')\n",
    "plt.ylabel('Values')\n",
    "\n",
    "# Histogram\n",
    "plt.plot()\n",
    "df['numeric_column'].plot(kind='hist')\n",
    "plt.title('Histogram')\n",
    "plt.xlabel('Numeric Values')\n",
    "\n",
    "# Scatter Plot\n",
    "plt.plot()\n",
    "df.plot(x='x_column', y='y_column', kind='scatter')\n",
    "plt.title('Scatter Plot')\n",
    "plt.xlabel('X Axis')\n",
    "plt.ylabel('Y Axis')\n",
    "\n",
    "# Box Plot\n",
    "plt.plot()\n",
    "df.plot(kind='box')\n",
    "plt.title('Box Plot')\n",
    "\n",
    "# Pie Chart\n",
    "plt.plot()\n",
    "df['numeric_column'].plot(kind='pie', autopct='%1.1f%%')\n",
    "plt.title('Pie Chart')\n",
    "\n",
    "# Adjust layout\n",
    "plt.tight_layout()\n",
    "\n",
    "# Show the plots\n",
    "plt.show()"
   ]
  },
  {
   "cell_type": "markdown",
   "id": "a147226b",
   "metadata": {},
   "source": [
    "## Plotting & complementary packages \n",
    "We'll use pandas' built-in plotting capabilities to visualize our data."
   ]
  },
  {
   "cell_type": "markdown",
   "id": "a1d6b2e4",
   "metadata": {},
   "source": [
    "Plotting in Pandas is made easy with its integration with Matplotlib, a popular plotting library in Python. Additionally, Pandas provides its own built-in plotting functionality based on Matplotlib. Here's how you can plot data using Pandas and Matplotlib, along with some complementary packages for advanced visualization:\n",
    "\n",
    "**Basic Plotting with Pandas:**\n",
    "\n",
    "Pandas DataFrame and Series objects have a .plot() method, which is a wrapper around Matplotlib's pyplot.plot() function. You can use this method to create basic plots directly from your data.\n",
    "\n",
    "`import pandas as pd`"
   ]
  },
  {
   "cell_type": "code",
   "execution_count": 60,
   "id": "f317facb",
   "metadata": {},
   "outputs": [
    {
     "data": {
      "image/png": "[encoded data removed]",
      "text/plain": [
       "<Figure size 640x480 with 1 Axes>"
      ]
     },
     "metadata": {},
     "output_type": "display_data"
    }
   ],
   "source": [
    "\n",
    "#Sample DataFrame\n",
    "data = {'x': [1, 2, 3, 4, 5], 'y': [0, 10, 6, 7, 2]}\n",
    "df = pd.DataFrame(data)\n",
    "\n",
    "#Plotting\n",
    "df.plot(x='x', y='y', kind='line', title='Line Plot')\n",
    "\n",
    "#Sample DataFrame\n",
    "data = {'x': [1, 2, 3, 4, 5], 'y': [2, 5, 6, 2, 10]}\n",
    "df = pd.DataFrame(data)\n",
    "\n",
    "#Plotting with Matplotlib\n",
    "plt.plot(df['x'], df['y'], marker='o', linestyle='--', color='r')\n",
    "plt.title('Line Plot')\n",
    "plt.xlabel('X-axis')\n",
    "plt.ylabel('Y-axis')\n",
    "plt.grid(True)\n",
    "plt.show()"
   ]
  },
  {
   "cell_type": "markdown",
   "id": "2d7f7dee",
   "metadata": {},
   "source": [
    "## Complementary Packages for Advanced Visualization:\n",
    "**Seaborn: Seaborn is a statistical data visualization library based on Matplotlib. It provides a high-level interface for drawing attractive and informative statistical graphics.**\n",
    "\n",
    "**Plotly: `Plotly` is an interactive plotting library that allows you to create interactive, web-based visualizations. It supports various chart types and offers features like hover tooltips, zooming, and panning.**\n",
    "\n",
    "**Bokeh: `Bokeh` is another interactive visualization library that targets modern web browsers for presentation. It enables high-performance interactivity over large or streaming datasets.**\n",
    "\n",
    "**Altair: `Altair` is a declarative statistical visualization library for Python. It is built on top of Vega and Vega-Lite, and it provides a simple and concise grammar for generating complex visualizations.**"
   ]
  },
  {
   "cell_type": "markdown",
   "id": "75d7763b",
   "metadata": {},
   "source": [
    "## Advantages and Drawbacks\n",
    "\n",
    "## Advantages\n",
    "\n",
    "- Structured format\n",
    "- Handling an heterogenous types of data\n",
    "- Easy to manipulate\n",
    "- Powerful analysis tools thanks to extensive libraries\n",
    "- Versatile compatibility with other types of data (CSV, Json, Excel, ...)\n",
    "\n",
    "## Drawbacks\n",
    "\n",
    "- Manipulate maximum a medium size dataset\n",
    "- Need to store all the data to apply any function\n",
    "- The function are applied row by row\n",
    "- Not inherently designed for scalability to very high dimensions"
   ]
  }
 ],
 "metadata": {
  "kernelspec": {
   "display_name": "Python 3",
   "language": "python",
   "name": "python3"
  },
  "language_info": {
   "codemirror_mode": {
    "name": "ipython",
    "version": 3
   },
   "file_extension": ".py",
   "mimetype": "text/x-python",
   "name": "python",
   "nbconvert_exporter": "python",
   "pygments_lexer": "ipython3",
   "version": "3.12.2"
  }
 },
 "nbformat": 4,
 "nbformat_minor": 5
}
